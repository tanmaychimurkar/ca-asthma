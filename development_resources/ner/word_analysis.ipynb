{
 "cells": [
  {
   "cell_type": "code",
   "execution_count": 9,
   "outputs": [],
   "source": [
    "import pandas as pd"
   ],
   "metadata": {
    "collapsed": false,
    "pycharm": {
     "name": "#%%\n"
    }
   }
  },
  {
   "cell_type": "code",
   "execution_count": 10,
   "outputs": [],
   "source": [
    "data1 = pd.read_csv(\"pos_tags_115.csv\")\n",
    "data2 = pd.read_csv(\"pos_tags_115_after.csv\")"
   ],
   "metadata": {
    "collapsed": false,
    "pycharm": {
     "name": "#%%\n"
    }
   }
  },
  {
   "cell_type": "code",
   "execution_count": 11,
   "outputs": [
    {
     "data": {
      "text/plain": "((49, 5497), (43, 589))"
     },
     "execution_count": 11,
     "metadata": {},
     "output_type": "execute_result"
    }
   ],
   "source": [
    "data1.shape, data2.shape"
   ],
   "metadata": {
    "collapsed": false,
    "pycharm": {
     "name": "#%%\n"
    }
   }
  },
  {
   "cell_type": "code",
   "execution_count": 12,
   "outputs": [
    {
     "data": {
      "text/plain": "  Unnamed: 0         0         1         2             3          4  \\\n0         WP      What     whats      WHAT         what.       what   \n1        VBP  diagnose  overdose    appeal         dunno        bow   \n2         JJ  greatful   shallow  official         happy  perplexed   \n3         NN       IgE      mile    marker  Inflammation   dimethyl   \n4        NNS   PARENTS      pros     tools      quarters      memes   \n\n              5         6        7           8  ...       5486   5487   5488  \\\n0           who   whoever    WHATS         tho  ...        NaN    NaN    NaN   \n1           lie     serve   worry.       brush  ...        NaN    NaN    NaN   \n2       non-cdc  ignorant    fifth        hard  ...        NaN    NaN    NaN   \n3  methotrexate     trial  request  peppermint  ...  excercise  today  week.   \n4    generators      arms    40lbs     answers  ...        NaN    NaN    NaN   \n\n    5489 5490   5491         5492     5493        5494  5495  \n0    NaN  NaN    NaN          NaN      NaN         NaN   NaN  \n1    NaN  NaN    NaN          NaN      NaN         NaN   NaN  \n2    NaN  NaN    NaN          NaN      NaN         NaN   NaN  \n3  mannn   ox  magic  cleanliness  cooling  Homeopathy  word  \n4    NaN  NaN    NaN          NaN      NaN         NaN   NaN  \n\n[5 rows x 5497 columns]",
      "text/html": "<div>\n<style scoped>\n    .dataframe tbody tr th:only-of-type {\n        vertical-align: middle;\n    }\n\n    .dataframe tbody tr th {\n        vertical-align: top;\n    }\n\n    .dataframe thead th {\n        text-align: right;\n    }\n</style>\n<table border=\"1\" class=\"dataframe\">\n  <thead>\n    <tr style=\"text-align: right;\">\n      <th></th>\n      <th>Unnamed: 0</th>\n      <th>0</th>\n      <th>1</th>\n      <th>2</th>\n      <th>3</th>\n      <th>4</th>\n      <th>5</th>\n      <th>6</th>\n      <th>7</th>\n      <th>8</th>\n      <th>...</th>\n      <th>5486</th>\n      <th>5487</th>\n      <th>5488</th>\n      <th>5489</th>\n      <th>5490</th>\n      <th>5491</th>\n      <th>5492</th>\n      <th>5493</th>\n      <th>5494</th>\n      <th>5495</th>\n    </tr>\n  </thead>\n  <tbody>\n    <tr>\n      <th>0</th>\n      <td>WP</td>\n      <td>What</td>\n      <td>whats</td>\n      <td>WHAT</td>\n      <td>what.</td>\n      <td>what</td>\n      <td>who</td>\n      <td>whoever</td>\n      <td>WHATS</td>\n      <td>tho</td>\n      <td>...</td>\n      <td>NaN</td>\n      <td>NaN</td>\n      <td>NaN</td>\n      <td>NaN</td>\n      <td>NaN</td>\n      <td>NaN</td>\n      <td>NaN</td>\n      <td>NaN</td>\n      <td>NaN</td>\n      <td>NaN</td>\n    </tr>\n    <tr>\n      <th>1</th>\n      <td>VBP</td>\n      <td>diagnose</td>\n      <td>overdose</td>\n      <td>appeal</td>\n      <td>dunno</td>\n      <td>bow</td>\n      <td>lie</td>\n      <td>serve</td>\n      <td>worry.</td>\n      <td>brush</td>\n      <td>...</td>\n      <td>NaN</td>\n      <td>NaN</td>\n      <td>NaN</td>\n      <td>NaN</td>\n      <td>NaN</td>\n      <td>NaN</td>\n      <td>NaN</td>\n      <td>NaN</td>\n      <td>NaN</td>\n      <td>NaN</td>\n    </tr>\n    <tr>\n      <th>2</th>\n      <td>JJ</td>\n      <td>greatful</td>\n      <td>shallow</td>\n      <td>official</td>\n      <td>happy</td>\n      <td>perplexed</td>\n      <td>non-cdc</td>\n      <td>ignorant</td>\n      <td>fifth</td>\n      <td>hard</td>\n      <td>...</td>\n      <td>NaN</td>\n      <td>NaN</td>\n      <td>NaN</td>\n      <td>NaN</td>\n      <td>NaN</td>\n      <td>NaN</td>\n      <td>NaN</td>\n      <td>NaN</td>\n      <td>NaN</td>\n      <td>NaN</td>\n    </tr>\n    <tr>\n      <th>3</th>\n      <td>NN</td>\n      <td>IgE</td>\n      <td>mile</td>\n      <td>marker</td>\n      <td>Inflammation</td>\n      <td>dimethyl</td>\n      <td>methotrexate</td>\n      <td>trial</td>\n      <td>request</td>\n      <td>peppermint</td>\n      <td>...</td>\n      <td>excercise</td>\n      <td>today</td>\n      <td>week.</td>\n      <td>mannn</td>\n      <td>ox</td>\n      <td>magic</td>\n      <td>cleanliness</td>\n      <td>cooling</td>\n      <td>Homeopathy</td>\n      <td>word</td>\n    </tr>\n    <tr>\n      <th>4</th>\n      <td>NNS</td>\n      <td>PARENTS</td>\n      <td>pros</td>\n      <td>tools</td>\n      <td>quarters</td>\n      <td>memes</td>\n      <td>generators</td>\n      <td>arms</td>\n      <td>40lbs</td>\n      <td>answers</td>\n      <td>...</td>\n      <td>NaN</td>\n      <td>NaN</td>\n      <td>NaN</td>\n      <td>NaN</td>\n      <td>NaN</td>\n      <td>NaN</td>\n      <td>NaN</td>\n      <td>NaN</td>\n      <td>NaN</td>\n      <td>NaN</td>\n    </tr>\n  </tbody>\n</table>\n<p>5 rows × 5497 columns</p>\n</div>"
     },
     "execution_count": 12,
     "metadata": {},
     "output_type": "execute_result"
    }
   ],
   "source": [
    "data1.head()"
   ],
   "metadata": {
    "collapsed": false,
    "pycharm": {
     "name": "#%%\n"
    }
   }
  },
  {
   "cell_type": "code",
   "execution_count": 13,
   "outputs": [
    {
     "data": {
      "text/plain": "  Unnamed: 0       0      1        2          3      4          5     6  \\\n0        WRB     how   When    where       when    How        NaN   NaN   \n1         TO      to    NaN      NaN        NaN    NaN        NaN   NaN   \n2         VB  assess  treat      Pay  establish  mimic  accompany  talk   \n3        NNP     EIA    DoD  Germany       IL-5      C       IL-6    CT   \n4          .       .      ?        )        NaN    NaN        NaN   NaN   \n\n            7          8  ...  578  579  580  581  582  583  584  585  586  \\\n0         NaN        NaN  ...  NaN  NaN  NaN  NaN  NaN  NaN  NaN  NaN  NaN   \n1         NaN        NaN  ...  NaN  NaN  NaN  NaN  NaN  NaN  NaN  NaN  NaN   \n2  exacerbate  condition  ...  NaN  NaN  NaN  NaN  NaN  NaN  NaN  NaN  NaN   \n3          Th       HRVC  ...  NaN  NaN  NaN  NaN  NaN  NaN  NaN  NaN  NaN   \n4         NaN        NaN  ...  NaN  NaN  NaN  NaN  NaN  NaN  NaN  NaN  NaN   \n\n   587  \n0  NaN  \n1  NaN  \n2  NaN  \n3  NaN  \n4  NaN  \n\n[5 rows x 589 columns]",
      "text/html": "<div>\n<style scoped>\n    .dataframe tbody tr th:only-of-type {\n        vertical-align: middle;\n    }\n\n    .dataframe tbody tr th {\n        vertical-align: top;\n    }\n\n    .dataframe thead th {\n        text-align: right;\n    }\n</style>\n<table border=\"1\" class=\"dataframe\">\n  <thead>\n    <tr style=\"text-align: right;\">\n      <th></th>\n      <th>Unnamed: 0</th>\n      <th>0</th>\n      <th>1</th>\n      <th>2</th>\n      <th>3</th>\n      <th>4</th>\n      <th>5</th>\n      <th>6</th>\n      <th>7</th>\n      <th>8</th>\n      <th>...</th>\n      <th>578</th>\n      <th>579</th>\n      <th>580</th>\n      <th>581</th>\n      <th>582</th>\n      <th>583</th>\n      <th>584</th>\n      <th>585</th>\n      <th>586</th>\n      <th>587</th>\n    </tr>\n  </thead>\n  <tbody>\n    <tr>\n      <th>0</th>\n      <td>WRB</td>\n      <td>how</td>\n      <td>When</td>\n      <td>where</td>\n      <td>when</td>\n      <td>How</td>\n      <td>NaN</td>\n      <td>NaN</td>\n      <td>NaN</td>\n      <td>NaN</td>\n      <td>...</td>\n      <td>NaN</td>\n      <td>NaN</td>\n      <td>NaN</td>\n      <td>NaN</td>\n      <td>NaN</td>\n      <td>NaN</td>\n      <td>NaN</td>\n      <td>NaN</td>\n      <td>NaN</td>\n      <td>NaN</td>\n    </tr>\n    <tr>\n      <th>1</th>\n      <td>TO</td>\n      <td>to</td>\n      <td>NaN</td>\n      <td>NaN</td>\n      <td>NaN</td>\n      <td>NaN</td>\n      <td>NaN</td>\n      <td>NaN</td>\n      <td>NaN</td>\n      <td>NaN</td>\n      <td>...</td>\n      <td>NaN</td>\n      <td>NaN</td>\n      <td>NaN</td>\n      <td>NaN</td>\n      <td>NaN</td>\n      <td>NaN</td>\n      <td>NaN</td>\n      <td>NaN</td>\n      <td>NaN</td>\n      <td>NaN</td>\n    </tr>\n    <tr>\n      <th>2</th>\n      <td>VB</td>\n      <td>assess</td>\n      <td>treat</td>\n      <td>Pay</td>\n      <td>establish</td>\n      <td>mimic</td>\n      <td>accompany</td>\n      <td>talk</td>\n      <td>exacerbate</td>\n      <td>condition</td>\n      <td>...</td>\n      <td>NaN</td>\n      <td>NaN</td>\n      <td>NaN</td>\n      <td>NaN</td>\n      <td>NaN</td>\n      <td>NaN</td>\n      <td>NaN</td>\n      <td>NaN</td>\n      <td>NaN</td>\n      <td>NaN</td>\n    </tr>\n    <tr>\n      <th>3</th>\n      <td>NNP</td>\n      <td>EIA</td>\n      <td>DoD</td>\n      <td>Germany</td>\n      <td>IL-5</td>\n      <td>C</td>\n      <td>IL-6</td>\n      <td>CT</td>\n      <td>Th</td>\n      <td>HRVC</td>\n      <td>...</td>\n      <td>NaN</td>\n      <td>NaN</td>\n      <td>NaN</td>\n      <td>NaN</td>\n      <td>NaN</td>\n      <td>NaN</td>\n      <td>NaN</td>\n      <td>NaN</td>\n      <td>NaN</td>\n      <td>NaN</td>\n    </tr>\n    <tr>\n      <th>4</th>\n      <td>.</td>\n      <td>.</td>\n      <td>?</td>\n      <td>)</td>\n      <td>NaN</td>\n      <td>NaN</td>\n      <td>NaN</td>\n      <td>NaN</td>\n      <td>NaN</td>\n      <td>NaN</td>\n      <td>...</td>\n      <td>NaN</td>\n      <td>NaN</td>\n      <td>NaN</td>\n      <td>NaN</td>\n      <td>NaN</td>\n      <td>NaN</td>\n      <td>NaN</td>\n      <td>NaN</td>\n      <td>NaN</td>\n      <td>NaN</td>\n    </tr>\n  </tbody>\n</table>\n<p>5 rows × 589 columns</p>\n</div>"
     },
     "execution_count": 13,
     "metadata": {},
     "output_type": "execute_result"
    }
   ],
   "source": [
    "data2.head()"
   ],
   "metadata": {
    "collapsed": false,
    "pycharm": {
     "name": "#%%\n"
    }
   }
  },
  {
   "cell_type": "code",
   "execution_count": null,
   "outputs": [],
   "source": [],
   "metadata": {
    "collapsed": false,
    "pycharm": {
     "name": "#%%\n"
    }
   }
  }
 ],
 "metadata": {
  "kernelspec": {
   "display_name": "Python 3",
   "language": "python",
   "name": "python3"
  },
  "language_info": {
   "codemirror_mode": {
    "name": "ipython",
    "version": 2
   },
   "file_extension": ".py",
   "mimetype": "text/x-python",
   "name": "python",
   "nbconvert_exporter": "python",
   "pygments_lexer": "ipython2",
   "version": "2.7.6"
  }
 },
 "nbformat": 4,
 "nbformat_minor": 0
}