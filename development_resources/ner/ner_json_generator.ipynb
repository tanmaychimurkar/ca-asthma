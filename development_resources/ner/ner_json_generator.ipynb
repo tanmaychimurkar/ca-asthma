{
 "cells": [
  {
   "cell_type": "code",
   "execution_count": 2,
   "outputs": [],
   "source": [
    "import pandas as pd\n",
    "import numpy as np\n",
    "import re\n",
    "import json"
   ],
   "metadata": {
    "collapsed": false,
    "pycharm": {
     "name": "#%%\n"
    }
   }
  },
  {
   "cell_type": "code",
   "execution_count": 3,
   "outputs": [],
   "source": [
    "with open('ner_tags.json') as f:\n",
    "  ner_tags = json.load(f)"
   ],
   "metadata": {
    "collapsed": false,
    "pycharm": {
     "name": "#%%\n"
    }
   }
  },
  {
   "cell_type": "code",
   "execution_count": 4,
   "outputs": [],
   "source": [
    "ner_tags_lowercase = {}\n",
    "for key, value in ner_tags.items():\n",
    "    word_list = []\n",
    "    for word in value:\n",
    "        word_list.append(word.lower())\n",
    "    ner_tags_lowercase[key] = word_list"
   ],
   "metadata": {
    "collapsed": false,
    "pycharm": {
     "name": "#%%\n"
    }
   }
  },
  {
   "cell_type": "code",
   "execution_count": 5,
   "outputs": [
    {
     "data": {
      "text/plain": "{'MAINDIS': ['asthma'],\n 'HELPER': ['masks',\n  'spray',\n  'rescue',\n  'antibody',\n  'peakflow',\n  'breezhaler',\n  'bracelet',\n  'gp',\n  'hepa',\n  'medicine',\n  'pulseoximeter',\n  'oxymeter',\n  'inhalers',\n  'mct',\n  'pulsar',\n  'pulmonologist',\n  'monotherapy',\n  'seretide',\n  'pulmonology',\n  'therapy',\n  'yoga',\n  'merv',\n  'drags',\n  'hospitalised',\n  'ambulanced',\n  'infusion',\n  'nebulizer'],\n 'SYMPTOMS': ['puke',\n  'suffocate',\n  'gag',\n  'flare',\n  'choke',\n  'inflammation',\n  'lyrngitis',\n  'concussions',\n  'headaches',\n  'diabetes',\n  'lungs',\n  'hips',\n  'hairs',\n  'teeths',\n  'ptsd',\n  'rashes',\n  'cuts',\n  'sniffles',\n  'sinuses',\n  'eyes',\n  'throats',\n  'thighs',\n  'allergies',\n  'seizures',\n  'coughs',\n  'tears',\n  'congestion',\n  'costochondritis'],\n 'TRIGGER': ['allergins',\n  'pets.',\n  'dusts',\n  'flu',\n  'hay-fever',\n  'mold',\n  'sprints',\n  'snow',\n  'walks',\n  'gastroesophageal-reflux-disease',\n  'propanol',\n  'deodorant',\n  'glutamate',\n  'exercise-induced',\n  'shampoo',\n  'hypothyroidism'],\n 'VULNERABLE': ['cyclists', 'infants', 'fears', 'childrens'],\n 'MEDICATION': ['dimethyl',\n  'methotrexate',\n  'additives',\n  'mepolizumab',\n  'propionate',\n  'bronchodilators',\n  'theophyllines',\n  'beta-2',\n  'zileuton',\n  'chemicals.',\n  'ventoline',\n  'serotonin',\n  'ciclesonide',\n  'dexamethasone',\n  'decongestants',\n  'pharmacies',\n  'sulfites',\n  'anticholinergics',\n  'histazine',\n  'laryngoscopy',\n  'xopenex',\n  'advair',\n  'glucorticoid',\n  'leukotriene',\n  'monlukast'],\n 'ADVICE': ['recommendations',\n  'strategies',\n  'therapies',\n  'preventors',\n  'treatments'],\n 'DIAGNOSE': ['lungs ',\n  'kidneys',\n  'observations',\n  'operations',\n  'thermostats',\n  'bronchoscopy',\n  'inspections'],\n 'CAUSE': ['peppermint', 'peroxyacetic', 'pentaerythrityl', 'heroin']}"
     },
     "execution_count": 5,
     "metadata": {},
     "output_type": "execute_result"
    }
   ],
   "source": [
    "ner_tags_lowercase"
   ],
   "metadata": {
    "collapsed": false,
    "pycharm": {
     "name": "#%%\n"
    }
   }
  },
  {
   "cell_type": "code",
   "execution_count": 6,
   "outputs": [],
   "source": [
    "data = pd.read_csv('Asthma_full.csv')"
   ],
   "metadata": {
    "collapsed": false,
    "pycharm": {
     "name": "#%%\n"
    }
   }
  },
  {
   "cell_type": "code",
   "execution_count": 7,
   "outputs": [],
   "source": [
    "def get_data(data):\n",
    "    questions = data['Question'].values\n",
    "    context = data['Context'].values\n",
    "    all_texts_combined = np.concatenate([questions, context])\n",
    "    all_text_df = pd.DataFrame(all_texts_combined)\n",
    "    all_text_df.dropna(inplace=True)\n",
    "    all_text_df.drop_duplicates(inplace=True)\n",
    "    all_text_df.columns = ['texts']\n",
    "    all_texts_combined = all_text_df['texts'].tolist()\n",
    "    return all_texts_combined\n"
   ],
   "metadata": {
    "collapsed": false,
    "pycharm": {
     "name": "#%%\n"
    }
   }
  },
  {
   "cell_type": "code",
   "execution_count": 8,
   "outputs": [],
   "source": [
    "subset_data = data.head()"
   ],
   "metadata": {
    "collapsed": false,
    "pycharm": {
     "name": "#%%\n"
    }
   }
  },
  {
   "cell_type": "code",
   "execution_count": 9,
   "outputs": [],
   "source": [
    "text_list = get_data(subset_data)"
   ],
   "metadata": {
    "collapsed": false,
    "pycharm": {
     "name": "#%%\n"
    }
   }
  },
  {
   "cell_type": "code",
   "execution_count": 10,
   "outputs": [],
   "source": [
    "def word_index(word, sentence):\n",
    "    for word in re.finditer(word, sentence):\n",
    "        return [word.start(), word.end()]\n",
    "\n",
    "def get_entity(sentence):\n",
    "    all_ents = []\n",
    "    for key, value in ner_tags_lowercase.items():\n",
    "        for word in value:\n",
    "            if word in sentence:\n",
    "                start, end = word_index(word, sentence)\n",
    "                all_ents.append([start, end, key])\n",
    "    return all_ents\n",
    "\n",
    "def create_ner_formatted_file(sentence):\n",
    "    # sentence = sentence\n",
    "    entities_list = get_entity(sentence.lower())\n",
    "    ner_format_json[\"annotations\"].append([sentence,{\"entities\":entities_list} ])\n",
    "    return ner_format_json"
   ],
   "metadata": {
    "collapsed": false,
    "pycharm": {
     "name": "#%%\n"
    }
   }
  },
  {
   "cell_type": "code",
   "execution_count": 12,
   "outputs": [],
   "source": [
    "ner_format_json = {}\n",
    "ner_format_json[\"classes\"] = ner_tags_lowercase.keys()\n",
    "ner_format_json[\"annotations\"] = []\n",
    "\n",
    "for i in text_list:\n",
    "    ner_format_json = create_ner_formatted_file(i)"
   ],
   "metadata": {
    "collapsed": false,
    "pycharm": {
     "name": "#%%\n"
    }
   }
  },
  {
   "cell_type": "code",
   "execution_count": 13,
   "outputs": [
    {
     "data": {
      "text/plain": "{'classes': dict_keys(['MAINDIS', 'HELPER', 'SYMPTOMS', 'TRIGGER', 'VULNERABLE', 'MEDICATION', 'ADVICE', 'DIAGNOSE', 'CAUSE']),\n 'annotations': [['What are common asthma treatments?',\n   {'entities': [[16, 22, 'MAINDIS'], [23, 33, 'ADVICE']]}],\n  ['Are inhalers useful to asthma patients?',\n   {'entities': [[23, 29, 'MAINDIS'], [4, 12, 'HELPER']]}],\n  ['When should I go to see a doctor?', {'entities': []}],\n  ['When may I need preventer inhaler?', {'entities': []}],\n  ['Can you tell me something about additional treatments?',\n   {'entities': [[43, 53, 'ADVICE']]}],\n  ['The most common asthma treatments are inhalers. These are considered the best asthma treatments for most people. This is because inhalers help get the medicine to the airways where it’s needed. Almost everyone with asthma has a preventer inhaler and a reliever inhaler.',\n   {'entities': [[16, 22, 'MAINDIS'],\n     [151, 159, 'HELPER'],\n     [38, 46, 'HELPER'],\n     [23, 33, 'ADVICE']]}],\n  ['Almost everyone with asthma has a preventer inhaler and a reliever inhaler. Everyone with asthma can benefit from a preventer inhaler.\\nPreventer inhalers prevent swelling and inflammation in the airways. This means you’re less likely to get symptoms if you come across your asthma triggers. \\nRegular preventer medicine helps prevent asthma attacks. Reliever inhalers relieve asthma symptoms like coughing, wheezing, breathlessness, and a tight chest. You use your reliever inhaler just when you have symptoms or an asthma attack.\\nIf your asthma is well controlled, you shouldn’t need to use your reliever inhaler often - or at all. But remember to always carry it with you in case symptoms do flare up. A small number of people who have mild symptoms very infrequently may only need a reliever inhaler to use when they get symptoms. However, some studies suggest that everyone should have a preventer inhaler too, to lower their risk of asthma attacks.',\n   {'entities': [[21, 27, 'MAINDIS'],\n     [310, 318, 'HELPER'],\n     [145, 153, 'HELPER'],\n     [693, 698, 'SYMPTOMS'],\n     [175, 187, 'SYMPTOMS']]}],\n  [\"If you're using your reliever inhaler three or more times a week, see your GP or asthma nurse as soon as possible to review your treatment plan. If you've only been prescribed a reliever inhaler, see your GP or asthma nurse urgently to ask for a preventer inhaler too.\",\n   {'entities': [[81, 87, 'MAINDIS'], [75, 77, 'HELPER']]}],\n  [\"You need a preventer inhaler if you've noticed symptoms three or more times a week or you wake up at night with symptoms or you've had an asthma attack in the last two years.\",\n   {'entities': [[138, 144, 'MAINDIS']]}],\n  [\"As a kind of add-on treatment, a long-acting bronchodilator opens up your airways. It contains reliever medicines that last 12 hours. It can lower your risk of asthma attacks. You must continue to take your preventer inhaler as prescribed because long-acting bronchodilators cannot deal with the inflammation in your airways. Your GP may prescribe a long-acting bronchodilator in a combination inhaler. This is one inhaler containing both the long-acting bronchodilator and your preventer medicine. You'll need your usual blue reliever inhaler too, in case you get symptoms. A certain type of long-acting bronchodilator medicine, found in MART inhalers (Maintenance and reliever therapy), can give quick relief for asthma symptoms too. This means you can use your MART inhaler as an emergency reliever as well. But not all combination inhalers can be used as a reliever so check with your GP. Make sure your GP or asthma nurse explains what your long-acting bronchodilator can and cannot do.\",\n   {'entities': [[160, 166, 'MAINDIS'],\n     [331, 333, 'HELPER'],\n     [104, 112, 'HELPER'],\n     [644, 652, 'HELPER'],\n     [679, 686, 'HELPER'],\n     [296, 308, 'SYMPTOMS'],\n     [259, 274, 'MEDICATION']]}]]}"
     },
     "execution_count": 13,
     "metadata": {},
     "output_type": "execute_result"
    }
   ],
   "source": [
    "ner_format_json"
   ],
   "metadata": {
    "collapsed": false,
    "pycharm": {
     "name": "#%%\n"
    }
   }
  },
  {
   "cell_type": "code",
   "execution_count": 16,
   "outputs": [],
   "source": [
    "import spacy\n",
    "from spacy.tokens import DocBin\n",
    "from tqdm import tqdm"
   ],
   "metadata": {
    "collapsed": false,
    "pycharm": {
     "name": "#%%\n"
    }
   }
  },
  {
   "cell_type": "code",
   "execution_count": 17,
   "outputs": [
    {
     "data": {
      "text/plain": "['MAINDIS',\n 'HELPER',\n 'SYMPTOMS',\n 'TRIGGER',\n 'VULNERABLE',\n 'MEDICATION',\n 'ADVICE',\n 'DIAGNOSE',\n 'CAUSE']"
     },
     "execution_count": 17,
     "metadata": {},
     "output_type": "execute_result"
    }
   ],
   "source": [
    "list(ner_tags_lowercase.keys())"
   ],
   "metadata": {
    "collapsed": false,
    "pycharm": {
     "name": "#%%\n"
    }
   }
  },
  {
   "cell_type": "code",
   "execution_count": 21,
   "outputs": [],
   "source": [
    "spacy.require_gpu()\n",
    "nlp = spacy.blank(\"en\") # load a new spacy model\n",
    "db = DocBin()"
   ],
   "metadata": {
    "collapsed": false,
    "pycharm": {
     "name": "#%%\n"
    }
   }
  },
  {
   "cell_type": "code",
   "execution_count": 25,
   "outputs": [
    {
     "name": "stderr",
     "output_type": "stream",
     "text": [
      "100%|██████████| 10/10 [00:00<00:00, 669.98it/s]"
     ]
    },
    {
     "name": "stdout",
     "output_type": "stream",
     "text": [
      "Skipping entity\n"
     ]
    },
    {
     "name": "stderr",
     "output_type": "stream",
     "text": [
      "\n"
     ]
    }
   ],
   "source": [
    "for text, annot in tqdm(ner_format_json['annotations']):\n",
    "    doc = nlp.make_doc(text)\n",
    "    ents = []\n",
    "    for start, end, label in annot[\"entities\"]:\n",
    "        span = doc.char_span(start, end, label=label, alignment_mode=\"contract\")\n",
    "        if span is None:\n",
    "            print(\"Skipping entity\")\n",
    "        else:\n",
    "            ents.append(span)\n",
    "    doc.ents = ents\n",
    "    db.add(doc)"
   ],
   "metadata": {
    "collapsed": false,
    "pycharm": {
     "name": "#%%\n"
    }
   }
  },
  {
   "cell_type": "code",
   "execution_count": null,
   "outputs": [],
   "source": [
    "# skeleton code for the ner part\n",
    "# to be able to route our question for in-domain or out-domain models, be able to guide it to the correct\n",
    "\n",
    "\n",
    "# huggingface pipeline stuff to integrate their models for QA, BIOBERT model integration or any model\n",
    "# skeleton code for the ner part\n",
    "# GPT3 implementation part,"
   ],
   "metadata": {
    "collapsed": false,
    "pycharm": {
     "name": "#%%\n"
    }
   }
  },
  {
   "cell_type": "code",
   "execution_count": 24,
   "outputs": [
    {
     "data": {
      "text/plain": "(asthma, bronchodilators, inflammation, GP, inhalers, therapy)"
     },
     "execution_count": 24,
     "metadata": {},
     "output_type": "execute_result"
    }
   ],
   "source": [
    "doc.ents"
   ],
   "metadata": {
    "collapsed": false,
    "pycharm": {
     "name": "#%%\n"
    }
   }
  },
  {
   "cell_type": "code",
   "execution_count": null,
   "outputs": [],
   "source": [
    "# https://github.com/amrrs/custom-ner-with-spacy3/blob/main/Custom_NER_with_Spacy3.ipynb"
   ],
   "metadata": {
    "collapsed": false,
    "pycharm": {
     "name": "#%%\n"
    }
   }
  }
 ],
 "metadata": {
  "kernelspec": {
   "display_name": "Python 3",
   "language": "python",
   "name": "python3"
  },
  "language_info": {
   "codemirror_mode": {
    "name": "ipython",
    "version": 2
   },
   "file_extension": ".py",
   "mimetype": "text/x-python",
   "name": "python",
   "nbconvert_exporter": "python",
   "pygments_lexer": "ipython2",
   "version": "2.7.6"
  }
 },
 "nbformat": 4,
 "nbformat_minor": 0
}