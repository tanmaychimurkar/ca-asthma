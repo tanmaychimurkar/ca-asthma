{
 "cells": [
  {
   "cell_type": "code",
   "execution_count": 7,
   "outputs": [],
   "source": [
    "import pandas as pd"
   ],
   "metadata": {
    "collapsed": false,
    "pycharm": {
     "name": "#%%\n"
    }
   }
  },
  {
   "cell_type": "code",
   "execution_count": 9,
   "outputs": [],
   "source": [
    "data = pd.read_csv('extra_qa - Sheet1.csv')"
   ],
   "metadata": {
    "collapsed": false,
    "pycharm": {
     "name": "#%%\n"
    }
   }
  },
  {
   "cell_type": "code",
   "execution_count": 10,
   "outputs": [
    {
     "data": {
      "text/plain": "                                             Question  \\\n0                             How to diagnose Asthma?   \n1                               How to treat Asthma ?   \n2          What are the signs and symptoms of asthma?   \n3   Which medications are used in the treatment of...   \n4   What is the anatomical structure of the airway...   \n..                                                ...   \n62  Which symptoms of sinus disease are also assoc...   \n63  What is the relationship between gastroesophag...   \n64       Which conditions may be mistaken for asthma?   \n65       Which factor distinguishes COPD from asthma?   \n66  When should alternative diagnoses be considere...   \n\n                                               Answer  \n0   Episodic symptoms of airflow obstruction are p...  \n1   \\nPharmacologic management includes the use of...  \n2   Signs and symptoms of asthma include the follo...  \n3   Pharmacologic management includes the use of r...  \n4   The airways of the lungs consist of the cartil...  \n..                                                ...  \n62  Sinus disease, especially in children, is asso...  \n63  Cough, recurrent bronchitis, pneumonia, wheezi...  \n64  Other extrinsic conditions, such as lymphadeno...  \n65  A significant history of smoking greater than ...  \n66  Consideration for alternative diagnoses should...  \n\n[67 rows x 2 columns]",
      "text/html": "<div>\n<style scoped>\n    .dataframe tbody tr th:only-of-type {\n        vertical-align: middle;\n    }\n\n    .dataframe tbody tr th {\n        vertical-align: top;\n    }\n\n    .dataframe thead th {\n        text-align: right;\n    }\n</style>\n<table border=\"1\" class=\"dataframe\">\n  <thead>\n    <tr style=\"text-align: right;\">\n      <th></th>\n      <th>Question</th>\n      <th>Answer</th>\n    </tr>\n  </thead>\n  <tbody>\n    <tr>\n      <th>0</th>\n      <td>How to diagnose Asthma?</td>\n      <td>Episodic symptoms of airflow obstruction are p...</td>\n    </tr>\n    <tr>\n      <th>1</th>\n      <td>How to treat Asthma ?</td>\n      <td>\\nPharmacologic management includes the use of...</td>\n    </tr>\n    <tr>\n      <th>2</th>\n      <td>What are the signs and symptoms of asthma?</td>\n      <td>Signs and symptoms of asthma include the follo...</td>\n    </tr>\n    <tr>\n      <th>3</th>\n      <td>Which medications are used in the treatment of...</td>\n      <td>Pharmacologic management includes the use of r...</td>\n    </tr>\n    <tr>\n      <th>4</th>\n      <td>What is the anatomical structure of the airway...</td>\n      <td>The airways of the lungs consist of the cartil...</td>\n    </tr>\n    <tr>\n      <th>...</th>\n      <td>...</td>\n      <td>...</td>\n    </tr>\n    <tr>\n      <th>62</th>\n      <td>Which symptoms of sinus disease are also assoc...</td>\n      <td>Sinus disease, especially in children, is asso...</td>\n    </tr>\n    <tr>\n      <th>63</th>\n      <td>What is the relationship between gastroesophag...</td>\n      <td>Cough, recurrent bronchitis, pneumonia, wheezi...</td>\n    </tr>\n    <tr>\n      <th>64</th>\n      <td>Which conditions may be mistaken for asthma?</td>\n      <td>Other extrinsic conditions, such as lymphadeno...</td>\n    </tr>\n    <tr>\n      <th>65</th>\n      <td>Which factor distinguishes COPD from asthma?</td>\n      <td>A significant history of smoking greater than ...</td>\n    </tr>\n    <tr>\n      <th>66</th>\n      <td>When should alternative diagnoses be considere...</td>\n      <td>Consideration for alternative diagnoses should...</td>\n    </tr>\n  </tbody>\n</table>\n<p>67 rows × 2 columns</p>\n</div>"
     },
     "execution_count": 10,
     "metadata": {},
     "output_type": "execute_result"
    }
   ],
   "source": [
    "data"
   ],
   "metadata": {
    "collapsed": false,
    "pycharm": {
     "name": "#%%\n"
    }
   }
  },
  {
   "cell_type": "code",
   "execution_count": 12,
   "outputs": [],
   "source": [
    "questions_only = data['Question'].values\n",
    "context_only = data['Answer'].values"
   ],
   "metadata": {
    "collapsed": false,
    "pycharm": {
     "name": "#%%\n"
    }
   }
  },
  {
   "cell_type": "code",
   "execution_count": 13,
   "outputs": [
    {
     "name": "stderr",
     "output_type": "stream",
     "text": [
      "/local/home/tchimurkar/anaconda3/envs/sail/lib/python3.7/site-packages/gensim/similarities/__init__.py:15: UserWarning: The gensim.similarities.levenshtein submodule is disabled, because the optional Levenshtein package <https://pypi.org/project/python-Levenshtein/> is unavailable. Install Levenhstein (e.g. `pip install python-Levenshtein`) to suppress this warning.\n",
      "  warnings.warn(msg)\n"
     ]
    }
   ],
   "source": [
    "from flair.data import Sentence\n",
    "from flair.models import SequenceTagger"
   ],
   "metadata": {
    "collapsed": false,
    "pycharm": {
     "name": "#%%\n"
    }
   }
  },
  {
   "cell_type": "code",
   "execution_count": 14,
   "outputs": [
    {
     "name": "stdout",
     "output_type": "stream",
     "text": [
      "2022-05-04 17:35:50,308 loading file /local/home/tchimurkar/.flair/models/pos-english/a9a73f6cd878edce8a0fa518db76f441f1cc49c2525b2b4557af278ec2f0659e.121306ea62993d04cd1978398b68396931a39eb47754c8a06a87f325ea70ac63\n",
      "2022-05-04 17:35:50,509 SequenceTagger predicts: Dictionary with 53 tags: <unk>, O, UH, ,, VBD, PRP, VB, PRP$, NN, RB, ., DT, JJ, VBP, VBG, IN, CD, NNS, NNP, WRB, VBZ, WDT, CC, TO, MD, VBN, WP, :, RP, EX, JJR, FW, XX, HYPH, POS, RBR, JJS, PDT, NNPS, RBS, AFX, WP$, -LRB-, -RRB-, ``, '', LS, $, SYM, ADD\n"
     ]
    }
   ],
   "source": [
    "tagger = SequenceTagger.load(\"flair/pos-english\")"
   ],
   "metadata": {
    "collapsed": false,
    "pycharm": {
     "name": "#%%\n"
    }
   }
  },
  {
   "cell_type": "code",
   "execution_count": 15,
   "outputs": [],
   "source": [
    "import numpy as np\n",
    "\n",
    "all_texts_combined = np.concatenate([questions_only, context_only])"
   ],
   "metadata": {
    "collapsed": false,
    "pycharm": {
     "name": "#%%\n"
    }
   }
  },
  {
   "cell_type": "code",
   "execution_count": 16,
   "outputs": [],
   "source": [
    "all_text_df = pd.DataFrame(all_texts_combined)"
   ],
   "metadata": {
    "collapsed": false,
    "pycharm": {
     "name": "#%%\n"
    }
   }
  },
  {
   "cell_type": "code",
   "execution_count": 17,
   "outputs": [
    {
     "data": {
      "text/plain": "(133, 1)"
     },
     "execution_count": 17,
     "metadata": {},
     "output_type": "execute_result"
    }
   ],
   "source": [
    "all_text_df.dropna(inplace=True)\n",
    "all_text_df.shape"
   ],
   "metadata": {
    "collapsed": false,
    "pycharm": {
     "name": "#%%\n"
    }
   }
  },
  {
   "cell_type": "code",
   "execution_count": 21,
   "outputs": [
    {
     "data": {
      "text/plain": "                                                     0\n0                              How to diagnose Asthma?\n1                                How to treat Asthma ?\n2           What are the signs and symptoms of asthma?\n3    Which medications are used in the treatment of...\n4    What is the anatomical structure of the airway...\n..                                                 ...\n129  Sinus disease, especially in children, is asso...\n130  Cough, recurrent bronchitis, pneumonia, wheezi...\n131  Other extrinsic conditions, such as lymphadeno...\n132  A significant history of smoking greater than ...\n133  Consideration for alternative diagnoses should...\n\n[133 rows x 1 columns]",
      "text/html": "<div>\n<style scoped>\n    .dataframe tbody tr th:only-of-type {\n        vertical-align: middle;\n    }\n\n    .dataframe tbody tr th {\n        vertical-align: top;\n    }\n\n    .dataframe thead th {\n        text-align: right;\n    }\n</style>\n<table border=\"1\" class=\"dataframe\">\n  <thead>\n    <tr style=\"text-align: right;\">\n      <th></th>\n      <th>0</th>\n    </tr>\n  </thead>\n  <tbody>\n    <tr>\n      <th>0</th>\n      <td>How to diagnose Asthma?</td>\n    </tr>\n    <tr>\n      <th>1</th>\n      <td>How to treat Asthma ?</td>\n    </tr>\n    <tr>\n      <th>2</th>\n      <td>What are the signs and symptoms of asthma?</td>\n    </tr>\n    <tr>\n      <th>3</th>\n      <td>Which medications are used in the treatment of...</td>\n    </tr>\n    <tr>\n      <th>4</th>\n      <td>What is the anatomical structure of the airway...</td>\n    </tr>\n    <tr>\n      <th>...</th>\n      <td>...</td>\n    </tr>\n    <tr>\n      <th>129</th>\n      <td>Sinus disease, especially in children, is asso...</td>\n    </tr>\n    <tr>\n      <th>130</th>\n      <td>Cough, recurrent bronchitis, pneumonia, wheezi...</td>\n    </tr>\n    <tr>\n      <th>131</th>\n      <td>Other extrinsic conditions, such as lymphadeno...</td>\n    </tr>\n    <tr>\n      <th>132</th>\n      <td>A significant history of smoking greater than ...</td>\n    </tr>\n    <tr>\n      <th>133</th>\n      <td>Consideration for alternative diagnoses should...</td>\n    </tr>\n  </tbody>\n</table>\n<p>133 rows × 1 columns</p>\n</div>"
     },
     "execution_count": 21,
     "metadata": {},
     "output_type": "execute_result"
    }
   ],
   "source": [
    "all_text_df"
   ],
   "metadata": {
    "collapsed": false,
    "pycharm": {
     "name": "#%%\n"
    }
   }
  },
  {
   "cell_type": "code",
   "execution_count": 18,
   "outputs": [
    {
     "data": {
      "text/plain": "(133, 1)"
     },
     "execution_count": 18,
     "metadata": {},
     "output_type": "execute_result"
    }
   ],
   "source": [
    "all_text_df.drop_duplicates(inplace=True)\n",
    "all_text_df.shape"
   ],
   "metadata": {
    "collapsed": false,
    "pycharm": {
     "name": "#%%\n"
    }
   }
  },
  {
   "cell_type": "code",
   "execution_count": 22,
   "outputs": [],
   "source": [
    "all_text_df.columns = ['texts']\n",
    "all_texts_combined = all_text_df['texts'].tolist()"
   ],
   "metadata": {
    "collapsed": false,
    "pycharm": {
     "name": "#%%\n"
    }
   }
  },
  {
   "cell_type": "code",
   "execution_count": 23,
   "outputs": [],
   "source": [
    "all_texts_combined_single = \" \".join(all_texts_combined)"
   ],
   "metadata": {
    "collapsed": false,
    "pycharm": {
     "name": "#%%\n"
    }
   }
  },
  {
   "cell_type": "code",
   "execution_count": 24,
   "outputs": [],
   "source": [
    "pos_tag_json = {}\n",
    "\n",
    "def get_pos_tags(sentence, pos_tag_json = {}):\n",
    "    tag = sentence.labels[0].value\n",
    "    word = sentence.text\n",
    "    if tag in pos_tag_json.keys():\n",
    "        pos_tag_json[tag].append(word)\n",
    "    else:\n",
    "        pos_tag_json[tag] = []\n",
    "        pos_tag_json[tag].append(word)\n",
    "    return pos_tag_json"
   ],
   "metadata": {
    "collapsed": false,
    "pycharm": {
     "name": "#%%\n"
    }
   }
  },
  {
   "cell_type": "code",
   "execution_count": 25,
   "outputs": [],
   "source": [
    "from tqdm import tqdm\n",
    "\n",
    "tqdm.pandas()"
   ],
   "metadata": {
    "collapsed": false,
    "pycharm": {
     "name": "#%%\n"
    }
   }
  },
  {
   "cell_type": "code",
   "execution_count": 26,
   "outputs": [
    {
     "name": "stderr",
     "output_type": "stream",
     "text": [
      "100%|██████████| 133/133 [00:14<00:00,  8.88it/s]\n"
     ]
    }
   ],
   "source": [
    "pos_json = {}\n",
    "for xi in tqdm(all_texts_combined):\n",
    "    sentence = Sentence(xi)\n",
    "    tagger.predict(sentence)\n",
    "    for elem in sentence:\n",
    "        pos_json = get_pos_tags(elem, pos_json)"
   ],
   "metadata": {
    "collapsed": false,
    "pycharm": {
     "name": "#%%\n"
    }
   }
  },
  {
   "cell_type": "code",
   "execution_count": 27,
   "outputs": [],
   "source": [
    "pos_json_unq = {}\n",
    "for key, value in pos_json.items():\n",
    "    pos_json_unq[key] = list(set(value))"
   ],
   "metadata": {
    "collapsed": false,
    "pycharm": {
     "name": "#%%\n"
    }
   }
  },
  {
   "cell_type": "code",
   "execution_count": 28,
   "outputs": [],
   "source": [
    "pos_tags_after_115 = pd.DataFrame.from_dict(pos_json_unq, orient='index')"
   ],
   "metadata": {
    "collapsed": false,
    "pycharm": {
     "name": "#%%\n"
    }
   }
  },
  {
   "cell_type": "code",
   "execution_count": 30,
   "outputs": [],
   "source": [
    "pos_tags_after_115.to_csv('pos_tags_115_after.csv')"
   ],
   "metadata": {
    "collapsed": false,
    "pycharm": {
     "name": "#%%\n"
    }
   }
  },
  {
   "cell_type": "code",
   "execution_count": null,
   "outputs": [],
   "source": [],
   "metadata": {
    "collapsed": false,
    "pycharm": {
     "name": "#%%\n"
    }
   }
  }
 ],
 "metadata": {
  "kernelspec": {
   "display_name": "Python 3",
   "language": "python",
   "name": "python3"
  },
  "language_info": {
   "codemirror_mode": {
    "name": "ipython",
    "version": 2
   },
   "file_extension": ".py",
   "mimetype": "text/x-python",
   "name": "python",
   "nbconvert_exporter": "python",
   "pygments_lexer": "ipython2",
   "version": "2.7.6"
  }
 },
 "nbformat": 4,
 "nbformat_minor": 0
}