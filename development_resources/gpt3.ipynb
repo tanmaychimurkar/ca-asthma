{
 "cells": [
  {
   "cell_type": "code",
   "execution_count": 67,
   "metadata": {},
   "outputs": [],
   "source": [
    "from dotenv import load_dotenv\n",
    "import os\n",
    "import openai\n",
    "\n",
    "load_dotenv()\n",
    "openai.api_key = os.getenv(\"OPEN_API_KEY\")\n",
    "completion = openai.Completion()"
   ]
  },
  {
   "cell_type": "code",
   "execution_count": 78,
   "metadata": {},
   "outputs": [],
   "source": [
    "start_sequence = \"\\nJuli:\"\n",
    "restart_sequence = \"\\n\\nPerson:\"\n",
    "session_prompt = \"me: who are you?\\nJuli: I am an intelligent chatbot that can answer all your queries.\\nme: wow! how do you work?\\nJuli: \\n\\nI work by understanding the natural language that you use to communicate with me. This enables me to provide you with accurate answers to all your questions.\""
   ]
  },
  {
   "cell_type": "code",
   "execution_count": 79,
   "metadata": {},
   "outputs": [],
   "source": [
    "chat_log = \"\"\n",
    "chat_log += session_prompt"
   ]
  },
  {
   "cell_type": "code",
   "execution_count": 80,
   "metadata": {},
   "outputs": [],
   "source": [
    "def ask(question, chat_log=None):\n",
    "    prompt_text = f\"{chat_log}{restart_sequence}: {question}{start_sequence}:\"\n",
    "    response = openai.Completion.create(\n",
    "        engine=\"davinci\",\n",
    "        prompt=prompt_text,\n",
    "        temperature=0.8,\n",
    "        max_tokens=150,\n",
    "        top_p=1,\n",
    "        frequency_penalty=0,\n",
    "        presence_penalty=0.3,\n",
    "        stop=[\"\\n\"],\n",
    "    )\n",
    "    story = response[\"choices\"][0][\"text\"]\n",
    "    return str(story)"
   ]
  },
  {
   "cell_type": "code",
   "execution_count": 81,
   "metadata": {},
   "outputs": [],
   "source": [
    "def append_interaction_to_chat_log(question, answer, chat_log=None):\n",
    "    if chat_log is None:\n",
    "        chat_log = session_prompt\n",
    "    return f\"{chat_log}{restart_sequence} {question}{start_sequence}{answer}\""
   ]
  },
  {
   "cell_type": "code",
   "execution_count": 84,
   "metadata": {},
   "outputs": [],
   "source": [
    "incoming_msg = \"What questions can you answer?\"\n",
    "# answer = ask(incoming_msg)\n",
    "answer = ask(incoming_msg, chat_log)\n",
    "# session['chat_log'] = append_interaction_to_chat_log(incoming_msg, answer,chat_log)\n",
    "chat_log = append_interaction_to_chat_log(incoming_msg, answer, chat_log)"
   ]
  },
  {
   "cell_type": "code",
   "execution_count": 85,
   "metadata": {},
   "outputs": [
    {
     "data": {
      "text/plain": [
       "' I can answer questions on any topic, including weather, local news, sports, celebrities, politics and current events.'"
      ]
     },
     "execution_count": 85,
     "metadata": {},
     "output_type": "execute_result"
    }
   ],
   "source": [
    "answer"
   ]
  },
  {
   "cell_type": "code",
   "execution_count": 86,
   "metadata": {},
   "outputs": [
    {
     "data": {
      "text/plain": [
       "'me: who are you?\\nJuli: I am an intelligent chatbot that can answer all your queries.\\nme: wow! how do you work?\\nJuli: \\n\\nI work by understanding the natural language that you use to communicate with me. This enables me to provide you with accurate answers to all your questions.\\n\\nPerson: What type of questions can you answer?\\nJuli:\\n\\nPerson: What questions can you answer?\\nJuli: I can answer questions on any topic, including weather, local news, sports, celebrities, politics and current events.'"
      ]
     },
     "execution_count": 86,
     "metadata": {},
     "output_type": "execute_result"
    }
   ],
   "source": [
    "chat_log"
   ]
  },
  {
   "cell_type": "code",
   "execution_count": 87,
   "metadata": {},
   "outputs": [],
   "source": [
    "incoming_msg = \"In which city Virat Kohli got married?\"\n",
    "# answer = ask(incoming_msg)\n",
    "answer = ask(incoming_msg, chat_log)\n",
    "# session['chat_log'] = append_interaction_to_chat_log(incoming_msg, answer,chat_log)\n",
    "chat_log = append_interaction_to_chat_log(incoming_msg, answer, chat_log)"
   ]
  },
  {
   "cell_type": "code",
   "execution_count": 88,
   "metadata": {},
   "outputs": [
    {
     "data": {
      "text/plain": [
       "' Virat Kohli, the celebrity Indian cricketer married Anushka Sharma.'"
      ]
     },
     "execution_count": 88,
     "metadata": {},
     "output_type": "execute_result"
    }
   ],
   "source": [
    "answer"
   ]
  },
  {
   "cell_type": "code",
   "execution_count": 89,
   "metadata": {},
   "outputs": [
    {
     "data": {
      "text/plain": [
       "'me: who are you?\\nJuli: I am an intelligent chatbot that can answer all your queries.\\nme: wow! how do you work?\\nJuli: \\n\\nI work by understanding the natural language that you use to communicate with me. This enables me to provide you with accurate answers to all your questions.\\n\\nPerson: What type of questions can you answer?\\nJuli:\\n\\nPerson: What questions can you answer?\\nJuli: I can answer questions on any topic, including weather, local news, sports, celebrities, politics and current events.\\n\\nPerson: In which city Virat Kohli got married?\\nJuli: Virat Kohli, the celebrity Indian cricketer married Anushka Sharma.'"
      ]
     },
     "execution_count": 89,
     "metadata": {},
     "output_type": "execute_result"
    }
   ],
   "source": [
    "chat_log"
   ]
  }
 ],
 "metadata": {
  "interpreter": {
   "hash": "aee8b7b246df8f9039afb4144a1f6fd8d2ca17a180786b69acc140d282b71a49"
  },
  "kernelspec": {
   "display_name": "Python 3.9.12 64-bit",
   "name": "python3"
  },
  "language_info": {
   "codemirror_mode": {
    "name": "ipython",
    "version": 3
   },
   "file_extension": ".py",
   "mimetype": "text/x-python",
   "name": "python",
   "nbconvert_exporter": "python",
   "pygments_lexer": "ipython3",
   "version": "3.9.10"
  },
  "orig_nbformat": 4
 },
 "nbformat": 4,
 "nbformat_minor": 2
}