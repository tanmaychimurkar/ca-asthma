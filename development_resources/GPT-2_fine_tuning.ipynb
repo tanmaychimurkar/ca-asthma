{
 "cells": [
  {
   "cell_type": "code",
   "execution_count": 2,
   "metadata": {},
   "outputs": [
    {
     "name": "stdout",
     "output_type": "stream",
     "text": [
      "Requirement already satisfied: gpt-2-simple in d:\\anaconda\\lib\\site-packages (0.8.1)\n",
      "Requirement already satisfied: regex in d:\\anaconda\\lib\\site-packages (from gpt-2-simple) (2021.11.10)\n",
      "Requirement already satisfied: numpy in d:\\anaconda\\lib\\site-packages (from gpt-2-simple) (1.21.5)"
     ]
    },
    {
     "name": "stderr",
     "output_type": "stream",
     "text": [
      "WARNING: Ignoring invalid distribution -5py (d:\\anaconda\\lib\\site-packages)\n",
      "WARNING: Ignoring invalid distribution -orch (d:\\anaconda\\lib\\site-packages)\n",
      "WARNING: Ignoring invalid distribution - (d:\\anaconda\\lib\\site-packages)\n",
      "WARNING: Ignoring invalid distribution -5py (d:\\anaconda\\lib\\site-packages)\n",
      "WARNING: Ignoring invalid distribution -orch (d:\\anaconda\\lib\\site-packages)\n",
      "WARNING: Ignoring invalid distribution - (d:\\anaconda\\lib\\site-packages)\n",
      "WARNING: Ignoring invalid distribution -5py (d:\\anaconda\\lib\\site-packages)\n",
      "WARNING: Ignoring invalid distribution -orch (d:\\anaconda\\lib\\site-packages)\n",
      "WARNING: Ignoring invalid distribution - (d:\\anaconda\\lib\\site-packages)\n",
      "WARNING: Ignoring invalid distribution -5py (d:\\anaconda\\lib\\site-packages)\n",
      "WARNING: Ignoring invalid distribution -orch (d:\\anaconda\\lib\\site-packages)\n",
      "WARNING: Ignoring invalid distribution - (d:\\anaconda\\lib\\site-packages)\n",
      "WARNING: Ignoring invalid distribution -5py (d:\\anaconda\\lib\\site-packages)\n",
      "WARNING: Ignoring invalid distribution -orch (d:\\anaconda\\lib\\site-packages)\n",
      "WARNING: Ignoring invalid distribution - (d:\\anaconda\\lib\\site-packages)\n"
     ]
    },
    {
     "name": "stdout",
     "output_type": "stream",
     "text": [
      "\n",
      "Requirement already satisfied: toposort in d:\\anaconda\\lib\\site-packages (from gpt-2-simple) (1.7)\n",
      "Requirement already satisfied: requests in d:\\anaconda\\lib\\site-packages (from gpt-2-simple) (2.25.1)\n",
      "Requirement already satisfied: tqdm in d:\\anaconda\\lib\\site-packages (from gpt-2-simple) (4.59.0)\n",
      "Requirement already satisfied: tensorflow>=2.5.1 in d:\\anaconda\\lib\\site-packages (from gpt-2-simple) (2.7.0)\n",
      "Requirement already satisfied: absl-py>=0.4.0 in d:\\anaconda\\lib\\site-packages (from tensorflow>=2.5.1->gpt-2-simple) (0.12.0)\n",
      "Requirement already satisfied: h5py>=2.9.0 in d:\\anaconda\\lib\\site-packages (from tensorflow>=2.5.1->gpt-2-simple) (3.6.0)\n",
      "Requirement already satisfied: six>=1.12.0 in d:\\anaconda\\lib\\site-packages (from tensorflow>=2.5.1->gpt-2-simple) (1.15.0)\n",
      "Requirement already satisfied: protobuf>=3.9.2 in d:\\anaconda\\lib\\site-packages (from tensorflow>=2.5.1->gpt-2-simple) (3.16.0)\n",
      "Requirement already satisfied: typing-extensions>=3.6.6 in d:\\anaconda\\lib\\site-packages (from tensorflow>=2.5.1->gpt-2-simple) (4.0.1)\n",
      "Requirement already satisfied: gast<0.5.0,>=0.2.1 in d:\\anaconda\\lib\\site-packages (from tensorflow>=2.5.1->gpt-2-simple) (0.3.3)\n",
      "Requirement already satisfied: keras-preprocessing>=1.1.1 in d:\\anaconda\\lib\\site-packages (from tensorflow>=2.5.1->gpt-2-simple) (1.1.2)\n",
      "Requirement already satisfied: google-pasta>=0.1.1 in d:\\anaconda\\lib\\site-packages (from tensorflow>=2.5.1->gpt-2-simple) (0.2.0)\n",
      "Requirement already satisfied: wrapt>=1.11.0 in d:\\anaconda\\lib\\site-packages (from tensorflow>=2.5.1->gpt-2-simple) (1.12.1)\n",
      "Requirement already satisfied: tensorflow-estimator<2.8,~=2.7.0rc0 in d:\\anaconda\\lib\\site-packages (from tensorflow>=2.5.1->gpt-2-simple) (2.7.0)\n",
      "Requirement already satisfied: flatbuffers<3.0,>=1.12 in d:\\anaconda\\lib\\site-packages (from tensorflow>=2.5.1->gpt-2-simple) (1.12)\n",
      "Requirement already satisfied: grpcio<2.0,>=1.24.3 in d:\\anaconda\\lib\\site-packages (from tensorflow>=2.5.1->gpt-2-simple) (1.32.0)\n",
      "Requirement already satisfied: termcolor>=1.1.0 in d:\\anaconda\\lib\\site-packages (from tensorflow>=2.5.1->gpt-2-simple) (1.1.0)\n",
      "Requirement already satisfied: opt-einsum>=2.3.2 in d:\\anaconda\\lib\\site-packages (from tensorflow>=2.5.1->gpt-2-simple) (3.3.0)\n",
      "Requirement already satisfied: tensorboard~=2.6 in d:\\anaconda\\lib\\site-packages (from tensorflow>=2.5.1->gpt-2-simple) (2.7.0)\n",
      "Requirement already satisfied: astunparse>=1.6.0 in d:\\anaconda\\lib\\site-packages (from tensorflow>=2.5.1->gpt-2-simple) (1.6.3)\n",
      "Requirement already satisfied: keras<2.8,>=2.7.0rc0 in d:\\anaconda\\lib\\site-packages (from tensorflow>=2.5.1->gpt-2-simple) (2.7.0)\n",
      "Requirement already satisfied: wheel<1.0,>=0.32.0 in d:\\anaconda\\lib\\site-packages (from tensorflow>=2.5.1->gpt-2-simple) (0.36.2)\n",
      "Requirement already satisfied: tensorflow-io-gcs-filesystem>=0.21.0 in d:\\anaconda\\lib\\site-packages (from tensorflow>=2.5.1->gpt-2-simple) (0.23.1)\n",
      "Requirement already satisfied: libclang>=9.0.1 in d:\\anaconda\\lib\\site-packages (from tensorflow>=2.5.1->gpt-2-simple) (12.0.0)\n",
      "Requirement already satisfied: idna<3,>=2.5 in d:\\anaconda\\lib\\site-packages (from requests->gpt-2-simple) (2.10)\n",
      "Requirement already satisfied: urllib3<1.27,>=1.21.1 in d:\\anaconda\\lib\\site-packages (from requests->gpt-2-simple) (1.26.4)\n",
      "Requirement already satisfied: chardet<5,>=3.0.2 in d:\\anaconda\\lib\\site-packages (from requests->gpt-2-simple) (4.0.0)\n",
      "Requirement already satisfied: certifi>=2017.4.17 in d:\\anaconda\\lib\\site-packages (from requests->gpt-2-simple) (2021.10.8)\n",
      "Requirement already satisfied: tensorboard-data-server<0.7.0,>=0.6.0 in d:\\anaconda\\lib\\site-packages (from tensorboard~=2.6->tensorflow>=2.5.1->gpt-2-simple) (0.6.1)\n",
      "Requirement already satisfied: google-auth<3,>=1.6.3 in d:\\anaconda\\lib\\site-packages (from tensorboard~=2.6->tensorflow>=2.5.1->gpt-2-simple) (1.30.0)\n",
      "Requirement already satisfied: tensorboard-plugin-wit>=1.6.0 in d:\\anaconda\\lib\\site-packages (from tensorboard~=2.6->tensorflow>=2.5.1->gpt-2-simple) (1.8.0)\n",
      "Requirement already satisfied: markdown>=2.6.8 in d:\\anaconda\\lib\\site-packages (from tensorboard~=2.6->tensorflow>=2.5.1->gpt-2-simple) (3.3.4)\n",
      "Requirement already satisfied: setuptools>=41.0.0 in d:\\anaconda\\lib\\site-packages (from tensorboard~=2.6->tensorflow>=2.5.1->gpt-2-simple) (59.6.0)\n",
      "Requirement already satisfied: google-auth-oauthlib<0.5,>=0.4.1 in d:\\anaconda\\lib\\site-packages (from tensorboard~=2.6->tensorflow>=2.5.1->gpt-2-simple) (0.4.4)\n",
      "Requirement already satisfied: werkzeug>=0.11.15 in d:\\anaconda\\lib\\site-packages (from tensorboard~=2.6->tensorflow>=2.5.1->gpt-2-simple) (2.0.2)\n",
      "Requirement already satisfied: pyasn1-modules>=0.2.1 in d:\\anaconda\\lib\\site-packages (from google-auth<3,>=1.6.3->tensorboard~=2.6->tensorflow>=2.5.1->gpt-2-simple) (0.2.8)\n",
      "Requirement already satisfied: cachetools<5.0,>=2.0.0 in d:\\anaconda\\lib\\site-packages (from google-auth<3,>=1.6.3->tensorboard~=2.6->tensorflow>=2.5.1->gpt-2-simple) (4.2.2)\n",
      "Requirement already satisfied: rsa<5,>=3.1.4 in d:\\anaconda\\lib\\site-packages (from google-auth<3,>=1.6.3->tensorboard~=2.6->tensorflow>=2.5.1->gpt-2-simple) (4.7.2)\n",
      "Requirement already satisfied: requests-oauthlib>=0.7.0 in d:\\anaconda\\lib\\site-packages (from google-auth-oauthlib<0.5,>=0.4.1->tensorboard~=2.6->tensorflow>=2.5.1->gpt-2-simple) (1.3.0)\n",
      "Requirement already satisfied: pyasn1<0.5.0,>=0.4.6 in d:\\anaconda\\lib\\site-packages (from pyasn1-modules>=0.2.1->google-auth<3,>=1.6.3->tensorboard~=2.6->tensorflow>=2.5.1->gpt-2-simple) (0.4.8)\n",
      "Requirement already satisfied: oauthlib>=3.0.0 in d:\\anaconda\\lib\\site-packages (from requests-oauthlib>=0.7.0->google-auth-oauthlib<0.5,>=0.4.1->tensorboard~=2.6->tensorflow>=2.5.1->gpt-2-simple) (3.1.0)\n"
     ]
    },
    {
     "name": "stderr",
     "output_type": "stream",
     "text": [
      "WARNING: Ignoring invalid distribution -5py (d:\\anaconda\\lib\\site-packages)\n",
      "WARNING: Ignoring invalid distribution -orch (d:\\anaconda\\lib\\site-packages)\n",
      "WARNING: Ignoring invalid distribution - (d:\\anaconda\\lib\\site-packages)\n"
     ]
    }
   ],
   "source": [
    "!pip3 install gpt-2-simple"
   ]
  },
  {
   "cell_type": "code",
   "execution_count": 2,
   "metadata": {},
   "outputs": [],
   "source": [
    "import gpt_2_simple as gpt2\n",
    "import os\n",
    "import requests"
   ]
  },
  {
   "cell_type": "code",
   "execution_count": 3,
   "metadata": {},
   "outputs": [],
   "source": [
    "model_name = \"345M\"\n",
    "if not os.path.isdir(os.path.join(\"models\", model_name)):\n",
    "    print(f\"Downloading {model_name} model...\")\n",
    "    gpt2.download_gpt2(\n",
    "        model_name=model_name\n",
    "    )  # model is saved into current directory under /models/124M/"
   ]
  },
  {
   "cell_type": "code",
   "execution_count": null,
   "metadata": {},
   "outputs": [],
   "source": [
    "# file_name = \"SQuAD_csv.txt\"\n",
    "# if not os.path.isfile(file_name):\n",
    "# \turl = \"https://raw.githubusercontent.com/karpathy/char-rnn/master/data/tinyshakespeare/input.txt\"\n",
    "# \tdata = requests.get(url)\n",
    "\n",
    "# \twith open(file_name, 'w') as f:\n",
    "# \t\tf.write(data.text)"
   ]
  },
  {
   "cell_type": "code",
   "execution_count": 7,
   "metadata": {},
   "outputs": [],
   "source": [
    "import pandas\n",
    "\n",
    "# colnames = ['index', 'text', 'questions', 'answers']\n",
    "data = pandas.read_csv(\n",
    "    \"SQuAD_csv.csv\",\n",
    ")"
   ]
  },
  {
   "cell_type": "code",
   "execution_count": 8,
   "metadata": {},
   "outputs": [],
   "source": [
    "dataset = \"\"\n",
    "\n",
    "text = data.context[:1000].tolist()\n",
    "questions = data.question[:1000].tolist()\n",
    "answers = data.text[:1000].tolist()\n",
    "\n",
    "\n",
    "c, q, a, e = (\n",
    "    \"<|startoftext|>\\n[CONTEXT]: \",\n",
    "    \"\\n[QUESTION]:\",\n",
    "    \"\\n[ANSWER]:\",\n",
    "    \"\\n<|endoftext|>\\n\",\n",
    ")\n",
    "\n",
    "index = 0\n",
    "while index < len(text):\n",
    "    if index == 0 or text[index] != text[index - 1]:\n",
    "        dataset += c + text[index]\n",
    "\n",
    "    questionS = \"\".join(map(str, questions[index]))\n",
    "    answerS = \"\".join(map(str, answers[index]))\n",
    "\n",
    "    answerI = answerS\n",
    "    # answerI = answerI[9 : : ]\n",
    "    # print(answerI)\n",
    "    dataset += q + questionS\n",
    "    dataset += a + answerI\n",
    "\n",
    "    if index == len(text) - 1 or text[index] != text[index + 1]:\n",
    "        dataset += e\n",
    "    index += 1\n",
    "# print(dataset)\n",
    "# print(dataset)"
   ]
  },
  {
   "cell_type": "code",
   "execution_count": 9,
   "metadata": {},
   "outputs": [],
   "source": [
    "with open(\"QAdataset.txt\", \"w\", encoding=\"utf-8\") as f:\n",
    "    f.write(dataset)\n",
    "    f.close()"
   ]
  },
  {
   "cell_type": "code",
   "execution_count": 5,
   "metadata": {},
   "outputs": [],
   "source": [
    "file_name = \"QAdataset.txt\"\n",
    "sess = gpt2.start_tf_sess()"
   ]
  },
  {
   "cell_type": "code",
   "execution_count": 14,
   "metadata": {},
   "outputs": [
    {
     "name": "stdout",
     "output_type": "stream",
     "text": [
      "For larger models, the recommended finetune() parameters are:\n",
      "\tuse_memory_saving_gradients = True\n",
      "\tonly_train_transformer_layers = True\n",
      "\taccumulate_gradients = 1\n",
      "\n",
      "Loading checkpoint models\\345M\\model.ckpt\n",
      "INFO:tensorflow:Restoring parameters from models\\345M\\model.ckpt\n"
     ]
    },
    {
     "name": "stderr",
     "output_type": "stream",
     "text": [
      "  0%|          | 0/1 [00:00<?, ?it/s]"
     ]
    },
    {
     "name": "stdout",
     "output_type": "stream",
     "text": [
      "Loading dataset...\n"
     ]
    },
    {
     "name": "stderr",
     "output_type": "stream",
     "text": [
      "100%|██████████| 1/1 [00:00<00:00,  2.22it/s]\n"
     ]
    },
    {
     "name": "stdout",
     "output_type": "stream",
     "text": [
      "dataset has 43534 tokens\n",
      "Training...\n",
      "[1 | 258.06] loss=1.92 avg=1.92\n",
      "[2 | 492.09] loss=1.85 avg=1.89\n",
      "[3 | 728.40] loss=1.78 avg=1.85\n",
      "[4 | 957.67] loss=1.79 avg=1.84\n",
      "[5 | 1181.28] loss=1.72 avg=1.81\n",
      "[6 | 1406.44] loss=1.77 avg=1.80\n",
      "[7 | 1626.95] loss=1.60 avg=1.77\n",
      "[8 | 1846.36] loss=1.47 avg=1.74\n",
      "[9 | 2070.99] loss=1.50 avg=1.71\n",
      "[10 | 2291.48] loss=1.46 avg=1.68\n",
      "[11 | 2508.62] loss=1.58 avg=1.67\n",
      "[12 | 2725.58] loss=1.51 avg=1.66\n",
      "[13 | 2943.38] loss=1.64 avg=1.66\n",
      "interrupted\n",
      "Saving checkpoint\\QA\\model-13\n"
     ]
    }
   ],
   "source": [
    "gpt2.finetune(\n",
    "    sess,\n",
    "    dataset=file_name,\n",
    "    model_name=\"345M\",\n",
    "    steps=4000,\n",
    "    restore_from=\"fresh\",\n",
    "    run_name=\"QA\",\n",
    "    print_every=1,\n",
    "    sample_every=2000,\n",
    "    save_every=100,\n",
    ")"
   ]
  },
  {
   "cell_type": "code",
   "execution_count": 11,
   "metadata": {},
   "outputs": [
    {
     "name": "stdout",
     "output_type": "stream",
     "text": [
      "Loading checkpoint checkpoint\\QA\\model-13\n",
      "INFO:tensorflow:Restoring parameters from checkpoint\\QA\\model-13\n"
     ]
    }
   ],
   "source": [
    "gpt2.load_gpt2(\n",
    "    sess,\n",
    "    checkpoint=\"latest\",\n",
    "    run_name=\"QA\",\n",
    "    checkpoint_dir=\"checkpoint\",\n",
    "    model_name=None,\n",
    "    model_dir=\"models\",\n",
    "    multi_gpu=False,\n",
    "    reuse=True,\n",
    ")"
   ]
  },
  {
   "cell_type": "code",
   "execution_count": 13,
   "metadata": {},
   "outputs": [],
   "source": [
    "ctx = input(\"Context: \")\n",
    "qst = input(\"Question: \")\n",
    "ans = \"[ANSWER]:\"\n",
    "pre = \"<|startoftext|>\\n[CONTEXT]: \" + ctx + \"\\n[QUESTION]:\" + qst + \"\\n\" + ans"
   ]
  },
  {
   "cell_type": "code",
   "execution_count": 14,
   "metadata": {},
   "outputs": [
    {
     "name": "stdout",
     "output_type": "stream",
     "text": [
      "<|startoftext|>\n",
      "[CONTEXT]: Beyoncé Giselle Knowles was born in Houston, Texas, to Celestine Ann \"\"Tina\"\" Knowles (née Beyincé), a hairdresser and salon owner, and Mathew Knowles, a Xerox sales manager. Beyoncé's name is a tribute to her mother's maiden name. Beyoncé's younger sister Solange is also a singer and a former member of Destiny's Child. Mathew is African-American, while Tina is of Louisiana Creole descent (with African, Native American, French, Cajun, and distant Irish and Spanish ancestry). Through her mother, Beyoncé is a descendant of Acadian leader Joseph Broussard. She was raised in a Methodist household.\n",
      "[QUESTION]:Where was Beyoncé born?\n",
      "[ANSWER]:Houston\n",
      "[QUESTION\n",
      "====================\n",
      "<|startoftext|>\n",
      "[CONTEXT]: Beyoncé Giselle Knowles was born in Houston, Texas, to Celestine Ann \"\"Tina\"\" Knowles (née Beyincé), a hairdresser and salon owner, and Mathew Knowles, a Xerox sales manager. Beyoncé's name is a tribute to her mother's maiden name. Beyoncé's younger sister Solange is also a singer and a former member of Destiny's Child. Mathew is African-American, while Tina is of Louisiana Creole descent (with African, Native American, French, Cajun, and distant Irish and Spanish ancestry). Through her mother, Beyoncé is a descendant of Acadian leader Joseph Broussard. She was raised in a Methodist household.\n",
      "[QUESTION]:Where was Beyoncé born?\n",
      "[ANSWER]:Houston\n",
      "[QUESTION\n",
      "====================\n",
      "<|startoftext|>\n",
      "[CONTEXT]: Beyoncé Giselle Knowles was born in Houston, Texas, to Celestine Ann \"\"Tina\"\" Knowles (née Beyincé), a hairdresser and salon owner, and Mathew Knowles, a Xerox sales manager. Beyoncé's name is a tribute to her mother's maiden name. Beyoncé's younger sister Solange is also a singer and a former member of Destiny's Child. Mathew is African-American, while Tina is of Louisiana Creole descent (with African, Native American, French, Cajun, and distant Irish and Spanish ancestry). Through her mother, Beyoncé is a descendant of Acadian leader Joseph Broussard. She was raised in a Methodist household.\n",
      "[QUESTION]:Where was Beyoncé born?\n",
      "[ANSWER]:Houston, Texas\n",
      "[\n",
      "====================\n",
      "<|startoftext|>\n",
      "[CONTEXT]: Beyoncé Giselle Knowles was born in Houston, Texas, to Celestine Ann \"\"Tina\"\" Knowles (née Beyincé), a hairdresser and salon owner, and Mathew Knowles, a Xerox sales manager. Beyoncé's name is a tribute to her mother's maiden name. Beyoncé's younger sister Solange is also a singer and a former member of Destiny's Child. Mathew is African-American, while Tina is of Louisiana Creole descent (with African, Native American, French, Cajun, and distant Irish and Spanish ancestry). Through her mother, Beyoncé is a descendant of Acadian leader Joseph Broussard. She was raised in a Methodist household.\n",
      "[QUESTION]:Where was Beyoncé born?\n",
      "[ANSWER]:Houston, Texas\n",
      "[\n",
      "====================\n",
      "<|startoftext|>\n",
      "[CONTEXT]: Beyoncé Giselle Knowles was born in Houston, Texas, to Celestine Ann \"\"Tina\"\" Knowles (née Beyincé), a hairdresser and salon owner, and Mathew Knowles, a Xerox sales manager. Beyoncé's name is a tribute to her mother's maiden name. Beyoncé's younger sister Solange is also a singer and a former member of Destiny's Child. Mathew is African-American, while Tina is of Louisiana Creole descent (with African, Native American, French, Cajun, and distant Irish and Spanish ancestry). Through her mother, Beyoncé is a descendant of Acadian leader Joseph Broussard. She was raised in a Methodist household.\n",
      "[QUESTION]:Where was Beyoncé born?\n",
      "[ANSWER]:Houston\n",
      "[QUESTION\n",
      "====================\n",
      "<|startoftext|>\n",
      "[CONTEXT]: Beyoncé Giselle Knowles was born in Houston, Texas, to Celestine Ann \"\"Tina\"\" Knowles (née Beyincé), a hairdresser and salon owner, and Mathew Knowles, a Xerox sales manager. Beyoncé's name is a tribute to her mother's maiden name. Beyoncé's younger sister Solange is also a singer and a former member of Destiny's Child. Mathew is African-American, while Tina is of Louisiana Creole descent (with African, Native American, French, Cajun, and distant Irish and Spanish ancestry). Through her mother, Beyoncé is a descendant of Acadian leader Joseph Broussard. She was raised in a Methodist household.\n",
      "[QUESTION]:Where was Beyoncé born?\n",
      "[ANSWER]:Houston, Texas\n",
      "[\n",
      "====================\n",
      "<|startoftext|>\n",
      "[CONTEXT]: Beyoncé Giselle Knowles was born in Houston, Texas, to Celestine Ann \"\"Tina\"\" Knowles (née Beyincé), a hairdresser and salon owner, and Mathew Knowles, a Xerox sales manager. Beyoncé's name is a tribute to her mother's maiden name. Beyoncé's younger sister Solange is also a singer and a former member of Destiny's Child. Mathew is African-American, while Tina is of Louisiana Creole descent (with African, Native American, French, Cajun, and distant Irish and Spanish ancestry). Through her mother, Beyoncé is a descendant of Acadian leader Joseph Broussard. She was raised in a Methodist household.\n",
      "[QUESTION]:Where was Beyoncé born?\n",
      "[ANSWER]:Houston, Texas\n",
      "[\n",
      "====================\n",
      "<|startoftext|>\n",
      "[CONTEXT]: Beyoncé Giselle Knowles was born in Houston, Texas, to Celestine Ann \"\"Tina\"\" Knowles (née Beyincé), a hairdresser and salon owner, and Mathew Knowles, a Xerox sales manager. Beyoncé's name is a tribute to her mother's maiden name. Beyoncé's younger sister Solange is also a singer and a former member of Destiny's Child. Mathew is African-American, while Tina is of Louisiana Creole descent (with African, Native American, French, Cajun, and distant Irish and Spanish ancestry). Through her mother, Beyoncé is a descendant of Acadian leader Joseph Broussard. She was raised in a Methodist household.\n",
      "[QUESTION]:Where was Beyoncé born?\n",
      "[ANSWER]:Houston, Texas\n",
      "[\n",
      "====================\n",
      "<|startoftext|>\n",
      "[CONTEXT]: Beyoncé Giselle Knowles was born in Houston, Texas, to Celestine Ann \"\"Tina\"\" Knowles (née Beyincé), a hairdresser and salon owner, and Mathew Knowles, a Xerox sales manager. Beyoncé's name is a tribute to her mother's maiden name. Beyoncé's younger sister Solange is also a singer and a former member of Destiny's Child. Mathew is African-American, while Tina is of Louisiana Creole descent (with African, Native American, French, Cajun, and distant Irish and Spanish ancestry). Through her mother, Beyoncé is a descendant of Acadian leader Joseph Broussard. She was raised in a Methodist household.\n",
      "[QUESTION]:Where was Beyoncé born?\n",
      "[ANSWER]:Houston, Texas\n",
      "[\n",
      "====================\n",
      "<|startoftext|>\n",
      "[CONTEXT]: Beyoncé Giselle Knowles was born in Houston, Texas, to Celestine Ann \"\"Tina\"\" Knowles (née Beyincé), a hairdresser and salon owner, and Mathew Knowles, a Xerox sales manager. Beyoncé's name is a tribute to her mother's maiden name. Beyoncé's younger sister Solange is also a singer and a former member of Destiny's Child. Mathew is African-American, while Tina is of Louisiana Creole descent (with African, Native American, French, Cajun, and distant Irish and Spanish ancestry). Through her mother, Beyoncé is a descendant of Acadian leader Joseph Broussard. She was raised in a Methodist household.\n",
      "[QUESTION]:Where was Beyoncé born?\n",
      "[ANSWER]:Houston, Texas\n",
      "[\n",
      "====================\n"
     ]
    }
   ],
   "source": [
    "gpt2.generate(\n",
    "    sess,\n",
    "    length=5,\n",
    "    temperature=1,\n",
    "    prefix=pre,\n",
    "    nsamples=10,\n",
    "    batch_size=10,\n",
    "    run_name=\"QA\",\n",
    ")"
   ]
  }
 ],
 "metadata": {
  "interpreter": {
   "hash": "88279d2366fe020547cde40dd65aa0e3aa662a6ec1f3ca12d88834876c85e1a6"
  },
  "kernelspec": {
   "display_name": "Python 3.8.5 ('base')",
   "language": "python",
   "name": "python3"
  },
  "language_info": {
   "codemirror_mode": {
    "name": "ipython",
    "version": 3
   },
   "file_extension": ".py",
   "mimetype": "text/x-python",
   "name": "python",
   "nbconvert_exporter": "python",
   "pygments_lexer": "ipython3",
   "version": "3.8.5"
  },
  "orig_nbformat": 4
 },
 "nbformat": 4,
 "nbformat_minor": 2
}
