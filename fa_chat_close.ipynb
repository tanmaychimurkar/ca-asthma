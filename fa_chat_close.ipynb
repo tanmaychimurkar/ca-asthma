{
 "cells": [
  {
   "cell_type": "code",
   "execution_count": 2,
   "metadata": {
    "pycharm": {
     "name": "#%%\n"
    }
   },
   "outputs": [
    {
     "data": {
      "text/plain": "                                            Questions  \\\n0                            What happens to my data?   \n1                            What about data privacy?   \n2         Do you recommend a device to use with juli?   \n3                     What is Heart Rate Variability?   \n4   Why doesn't juli give me any recommendations h...   \n5               What could I do to improve my asthma?   \n6      Is there anything I need to worry about today?   \n7                              Should I see a doctor?   \n8                      What can I do to sleep better?   \n9                     Can you tell me an asthma joke?   \n10                             Is juli a real person?   \n11                 Why do you refer to juli as \"she\"?   \n12                Where does the name juli come from?   \n13                     Can I talk to someone at juli?   \n14            What does \"your health assistant\" mean?   \n15          Is there a real medical team behind juli?   \n16                           Where is my data stored?   \n17          Do juli employees have access to my data?   \n18                            Does juli sell my data?   \n19                  Where does juli get my data from?   \n20  How do I connect juli to my apple health section?   \n21  How do I connect my fitbit/ Garmin / Whoop /Ou...   \n22           How do I connect my Strava data to juli?   \n23            How do I get my menstrual data to juli?   \n24                   How to I get O2 Saturation data?   \n25                       How do I get Peak Flow data?   \n26                  How do I connect app XYZ to juli?   \n27      Do I need to have an Apple watch to use juli?   \n28                   Does juli work with iPhone only?   \n29          Do you intend to make an android version?   \n30         Where does juli get the weather data from?   \n31   Where does juli get the air pollution data from?   \n32          Where does juli get the pollen data from?   \n33  Why doesn't juli show pollen data for specific...   \n34  The weather /air pollution / pollen situation ...   \n35            Where does juli get my sleep data from?   \n36                   My sleep data is incorrect, why?   \n37   Where do you get the assessment of my data from?   \n38                 Why does juli track all that data?   \n39              What does the correlation graph mean?   \n40       What conclusions should I draw from my data?   \n41   What other medication could I use for my asthma?   \n42  Why don't you give any recommendation for medi...   \n43            Should I use my emergency inhaler more?   \n44           Should I use my preventive inhaler more?   \n45  Why is it important whether I woke up at night...   \n46  Are there factors that drive my asthma that I ...   \n47                        Can you recommend a doctor?   \n48           Can you remind me to take my medication?   \n49                    What is the weather like today?   \n50                     What is the pollen like today?   \n51    Can I track other conditions with juli as well?   \n52             Can I go for a run or excercise today?   \n53                          What food should I avoid?   \n54                         What's your favorite color   \n55                              Where are my car keys   \n56          Can you stop asking me so many questions?   \n\n                                              Answers  \n0   juli users collect a vast amount of accurate p...  \n1   Our mission at juli is to use data and artific...  \n2   juli uses the data collected by your iPhone. T...  \n3   Heart Rate Variability is how much the time be...  \n4   Health is complicated, and so we need enough d...  \n5   Taking your preventive medication as directed ...  \n6   Most people with asthma should focus on pollen...  \n7   If you are having specific symptoms that indic...  \n8   If your sleep problems are asthma-induced you ...  \n9             https://laffgaff.com/asthma-jokes-puns/  \n10  No, but there is a team of dedicated specialis...  \n11  We like to think of juli as a caring person an...  \n12  It is an abbreviation for \"just using lots of ...  \n13  Right now we don't offer a live chat. We recom...  \n14                            placeholder for answers  \n15  Yes, there is. We have a team of doctors and m...  \n16                            placeholder for answers  \n17                            placeholder for answers  \n18                            placeholder for answers  \n19                            placeholder for answers  \n20                            placeholder for answers  \n21                            placeholder for answers  \n22                            placeholder for answers  \n23                            placeholder for answers  \n24                            placeholder for answers  \n25                            placeholder for answers  \n26                            placeholder for answers  \n27                            placeholder for answers  \n28                            placeholder for answers  \n29                            placeholder for answers  \n30                            placeholder for answers  \n31                            placeholder for answers  \n32                            placeholder for answers  \n33                            placeholder for answers  \n34                            placeholder for answers  \n35                            placeholder for answers  \n36                            placeholder for answers  \n37                            placeholder for answers  \n38                            placeholder for answers  \n39                            placeholder for answers  \n40                            placeholder for answers  \n41                            placeholder for answers  \n42                            placeholder for answers  \n43                            placeholder for answers  \n44                            placeholder for answers  \n45                            placeholder for answers  \n46                            placeholder for answers  \n47                            placeholder for answers  \n48                                                 .   \n49                            placeholder for answers  \n50                            placeholder for answers  \n51                            placeholder for answers  \n52                            placeholder for answers  \n53                            placeholder for answers  \n54                            placeholder for answers  \n55                            placeholder for answers  \n56                            placeholder for answers  ",
      "text/html": "<div>\n<style scoped>\n    .dataframe tbody tr th:only-of-type {\n        vertical-align: middle;\n    }\n\n    .dataframe tbody tr th {\n        vertical-align: top;\n    }\n\n    .dataframe thead th {\n        text-align: right;\n    }\n</style>\n<table border=\"1\" class=\"dataframe\">\n  <thead>\n    <tr style=\"text-align: right;\">\n      <th></th>\n      <th>Questions</th>\n      <th>Answers</th>\n    </tr>\n  </thead>\n  <tbody>\n    <tr>\n      <th>0</th>\n      <td>What happens to my data?</td>\n      <td>juli users collect a vast amount of accurate p...</td>\n    </tr>\n    <tr>\n      <th>1</th>\n      <td>What about data privacy?</td>\n      <td>Our mission at juli is to use data and artific...</td>\n    </tr>\n    <tr>\n      <th>2</th>\n      <td>Do you recommend a device to use with juli?</td>\n      <td>juli uses the data collected by your iPhone. T...</td>\n    </tr>\n    <tr>\n      <th>3</th>\n      <td>What is Heart Rate Variability?</td>\n      <td>Heart Rate Variability is how much the time be...</td>\n    </tr>\n    <tr>\n      <th>4</th>\n      <td>Why doesn't juli give me any recommendations h...</td>\n      <td>Health is complicated, and so we need enough d...</td>\n    </tr>\n    <tr>\n      <th>5</th>\n      <td>What could I do to improve my asthma?</td>\n      <td>Taking your preventive medication as directed ...</td>\n    </tr>\n    <tr>\n      <th>6</th>\n      <td>Is there anything I need to worry about today?</td>\n      <td>Most people with asthma should focus on pollen...</td>\n    </tr>\n    <tr>\n      <th>7</th>\n      <td>Should I see a doctor?</td>\n      <td>If you are having specific symptoms that indic...</td>\n    </tr>\n    <tr>\n      <th>8</th>\n      <td>What can I do to sleep better?</td>\n      <td>If your sleep problems are asthma-induced you ...</td>\n    </tr>\n    <tr>\n      <th>9</th>\n      <td>Can you tell me an asthma joke?</td>\n      <td>https://laffgaff.com/asthma-jokes-puns/</td>\n    </tr>\n    <tr>\n      <th>10</th>\n      <td>Is juli a real person?</td>\n      <td>No, but there is a team of dedicated specialis...</td>\n    </tr>\n    <tr>\n      <th>11</th>\n      <td>Why do you refer to juli as \"she\"?</td>\n      <td>We like to think of juli as a caring person an...</td>\n    </tr>\n    <tr>\n      <th>12</th>\n      <td>Where does the name juli come from?</td>\n      <td>It is an abbreviation for \"just using lots of ...</td>\n    </tr>\n    <tr>\n      <th>13</th>\n      <td>Can I talk to someone at juli?</td>\n      <td>Right now we don't offer a live chat. We recom...</td>\n    </tr>\n    <tr>\n      <th>14</th>\n      <td>What does \"your health assistant\" mean?</td>\n      <td>placeholder for answers</td>\n    </tr>\n    <tr>\n      <th>15</th>\n      <td>Is there a real medical team behind juli?</td>\n      <td>Yes, there is. We have a team of doctors and m...</td>\n    </tr>\n    <tr>\n      <th>16</th>\n      <td>Where is my data stored?</td>\n      <td>placeholder for answers</td>\n    </tr>\n    <tr>\n      <th>17</th>\n      <td>Do juli employees have access to my data?</td>\n      <td>placeholder for answers</td>\n    </tr>\n    <tr>\n      <th>18</th>\n      <td>Does juli sell my data?</td>\n      <td>placeholder for answers</td>\n    </tr>\n    <tr>\n      <th>19</th>\n      <td>Where does juli get my data from?</td>\n      <td>placeholder for answers</td>\n    </tr>\n    <tr>\n      <th>20</th>\n      <td>How do I connect juli to my apple health section?</td>\n      <td>placeholder for answers</td>\n    </tr>\n    <tr>\n      <th>21</th>\n      <td>How do I connect my fitbit/ Garmin / Whoop /Ou...</td>\n      <td>placeholder for answers</td>\n    </tr>\n    <tr>\n      <th>22</th>\n      <td>How do I connect my Strava data to juli?</td>\n      <td>placeholder for answers</td>\n    </tr>\n    <tr>\n      <th>23</th>\n      <td>How do I get my menstrual data to juli?</td>\n      <td>placeholder for answers</td>\n    </tr>\n    <tr>\n      <th>24</th>\n      <td>How to I get O2 Saturation data?</td>\n      <td>placeholder for answers</td>\n    </tr>\n    <tr>\n      <th>25</th>\n      <td>How do I get Peak Flow data?</td>\n      <td>placeholder for answers</td>\n    </tr>\n    <tr>\n      <th>26</th>\n      <td>How do I connect app XYZ to juli?</td>\n      <td>placeholder for answers</td>\n    </tr>\n    <tr>\n      <th>27</th>\n      <td>Do I need to have an Apple watch to use juli?</td>\n      <td>placeholder for answers</td>\n    </tr>\n    <tr>\n      <th>28</th>\n      <td>Does juli work with iPhone only?</td>\n      <td>placeholder for answers</td>\n    </tr>\n    <tr>\n      <th>29</th>\n      <td>Do you intend to make an android version?</td>\n      <td>placeholder for answers</td>\n    </tr>\n    <tr>\n      <th>30</th>\n      <td>Where does juli get the weather data from?</td>\n      <td>placeholder for answers</td>\n    </tr>\n    <tr>\n      <th>31</th>\n      <td>Where does juli get the air pollution data from?</td>\n      <td>placeholder for answers</td>\n    </tr>\n    <tr>\n      <th>32</th>\n      <td>Where does juli get the pollen data from?</td>\n      <td>placeholder for answers</td>\n    </tr>\n    <tr>\n      <th>33</th>\n      <td>Why doesn't juli show pollen data for specific...</td>\n      <td>placeholder for answers</td>\n    </tr>\n    <tr>\n      <th>34</th>\n      <td>The weather /air pollution / pollen situation ...</td>\n      <td>placeholder for answers</td>\n    </tr>\n    <tr>\n      <th>35</th>\n      <td>Where does juli get my sleep data from?</td>\n      <td>placeholder for answers</td>\n    </tr>\n    <tr>\n      <th>36</th>\n      <td>My sleep data is incorrect, why?</td>\n      <td>placeholder for answers</td>\n    </tr>\n    <tr>\n      <th>37</th>\n      <td>Where do you get the assessment of my data from?</td>\n      <td>placeholder for answers</td>\n    </tr>\n    <tr>\n      <th>38</th>\n      <td>Why does juli track all that data?</td>\n      <td>placeholder for answers</td>\n    </tr>\n    <tr>\n      <th>39</th>\n      <td>What does the correlation graph mean?</td>\n      <td>placeholder for answers</td>\n    </tr>\n    <tr>\n      <th>40</th>\n      <td>What conclusions should I draw from my data?</td>\n      <td>placeholder for answers</td>\n    </tr>\n    <tr>\n      <th>41</th>\n      <td>What other medication could I use for my asthma?</td>\n      <td>placeholder for answers</td>\n    </tr>\n    <tr>\n      <th>42</th>\n      <td>Why don't you give any recommendation for medi...</td>\n      <td>placeholder for answers</td>\n    </tr>\n    <tr>\n      <th>43</th>\n      <td>Should I use my emergency inhaler more?</td>\n      <td>placeholder for answers</td>\n    </tr>\n    <tr>\n      <th>44</th>\n      <td>Should I use my preventive inhaler more?</td>\n      <td>placeholder for answers</td>\n    </tr>\n    <tr>\n      <th>45</th>\n      <td>Why is it important whether I woke up at night...</td>\n      <td>placeholder for answers</td>\n    </tr>\n    <tr>\n      <th>46</th>\n      <td>Are there factors that drive my asthma that I ...</td>\n      <td>placeholder for answers</td>\n    </tr>\n    <tr>\n      <th>47</th>\n      <td>Can you recommend a doctor?</td>\n      <td>placeholder for answers</td>\n    </tr>\n    <tr>\n      <th>48</th>\n      <td>Can you remind me to take my medication?</td>\n      <td>.</td>\n    </tr>\n    <tr>\n      <th>49</th>\n      <td>What is the weather like today?</td>\n      <td>placeholder for answers</td>\n    </tr>\n    <tr>\n      <th>50</th>\n      <td>What is the pollen like today?</td>\n      <td>placeholder for answers</td>\n    </tr>\n    <tr>\n      <th>51</th>\n      <td>Can I track other conditions with juli as well?</td>\n      <td>placeholder for answers</td>\n    </tr>\n    <tr>\n      <th>52</th>\n      <td>Can I go for a run or excercise today?</td>\n      <td>placeholder for answers</td>\n    </tr>\n    <tr>\n      <th>53</th>\n      <td>What food should I avoid?</td>\n      <td>placeholder for answers</td>\n    </tr>\n    <tr>\n      <th>54</th>\n      <td>What's your favorite color</td>\n      <td>placeholder for answers</td>\n    </tr>\n    <tr>\n      <th>55</th>\n      <td>Where are my car keys</td>\n      <td>placeholder for answers</td>\n    </tr>\n    <tr>\n      <th>56</th>\n      <td>Can you stop asking me so many questions?</td>\n      <td>placeholder for answers</td>\n    </tr>\n  </tbody>\n</table>\n</div>"
     },
     "execution_count": 2,
     "metadata": {},
     "output_type": "execute_result"
    }
   ],
   "source": [
    "import pandas as pd\n",
    "import numpy as np\n",
    "data = pd.read_csv('fe_Chat_full.csv')\n",
    "data.drop(columns=['No'], inplace=True)\n",
    "data.drop('MVP', axis=1, inplace=True)\n",
    "data.fillna('placeholder for answers', inplace=True)\n",
    "data"
   ]
  },
  {
   "cell_type": "code",
   "execution_count": 2,
   "metadata": {
    "pycharm": {
     "name": "#%%\n"
    }
   },
   "outputs": [],
   "source": [
    "test_data = [\n",
    "    \"What is the meaning of juli name\"]\n",
    "#     \"Can I speak to someone at juli?\",\n",
    "#     \"Who is behind juli?\",\n",
    "#     \"Who is juli\"\n",
    "# ]"
   ]
  },
  {
   "cell_type": "code",
   "execution_count": null,
   "metadata": {
    "pycharm": {
     "name": "#%%\n",
     "is_executing": true
    }
   },
   "outputs": [],
   "source": [
    "# master fn for getting answers to questions\n",
    "\n",
    "def genResults(questions, fn):\n",
    "    def genresult(q):\n",
    "        answer, score, prediction = fn(q)\n",
    "        return [q, prediction, answer, score]\n",
    "    result_df = pd.DataFrame(list(map(genresult, questions)), columns=['question', 'question_closest', 'answer', 'score'])\n",
    "    return result_df['answer'].values"
   ]
  },
  {
   "cell_type": "code",
   "execution_count": 10,
   "outputs": [],
   "source": [
    "def generate_results(question):\n",
    "    answer, score, prediction = 'test','test','test'\n",
    "    pass"
   ],
   "metadata": {
    "collapsed": false,
    "pycharm": {
     "name": "#%%\n"
    }
   }
  },
  {
   "cell_type": "markdown",
   "metadata": {
    "pycharm": {
     "name": "#%% md\n"
    }
   },
   "source": [
    "## Bert QA system"
   ]
  },
  {
   "cell_type": "code",
   "execution_count": 11,
   "metadata": {
    "pycharm": {
     "name": "#%%\n"
    }
   },
   "outputs": [
    {
     "data": {
      "text/plain": "Downloading:   0%|          | 0.00/1.18k [00:00<?, ?B/s]",
      "application/vnd.jupyter.widget-view+json": {
       "version_major": 2,
       "version_minor": 0,
       "model_id": "ad2c5c1f994541f1aa35a6f4fcb17283"
      }
     },
     "metadata": {},
     "output_type": "display_data"
    },
    {
     "data": {
      "text/plain": "Downloading:   0%|          | 0.00/190 [00:00<?, ?B/s]",
      "application/vnd.jupyter.widget-view+json": {
       "version_major": 2,
       "version_minor": 0,
       "model_id": "cf7ee6209b684189a952e631c784371b"
      }
     },
     "metadata": {},
     "output_type": "display_data"
    },
    {
     "data": {
      "text/plain": "Downloading:   0%|          | 0.00/10.1k [00:00<?, ?B/s]",
      "application/vnd.jupyter.widget-view+json": {
       "version_major": 2,
       "version_minor": 0,
       "model_id": "ec57d6f7b7784c02b4ef670e69d5c44b"
      }
     },
     "metadata": {},
     "output_type": "display_data"
    },
    {
     "data": {
      "text/plain": "Downloading:   0%|          | 0.00/571 [00:00<?, ?B/s]",
      "application/vnd.jupyter.widget-view+json": {
       "version_major": 2,
       "version_minor": 0,
       "model_id": "6c38233ee9e9454ba8d83c1de12f5fd1"
      }
     },
     "metadata": {},
     "output_type": "display_data"
    },
    {
     "data": {
      "text/plain": "Downloading:   0%|          | 0.00/116 [00:00<?, ?B/s]",
      "application/vnd.jupyter.widget-view+json": {
       "version_major": 2,
       "version_minor": 0,
       "model_id": "a50feaac3f6e43ec89b85c9fb6c888c4"
      }
     },
     "metadata": {},
     "output_type": "display_data"
    },
    {
     "data": {
      "text/plain": "Downloading:   0%|          | 0.00/39.3k [00:00<?, ?B/s]",
      "application/vnd.jupyter.widget-view+json": {
       "version_major": 2,
       "version_minor": 0,
       "model_id": "f2ba9dcaa48f4a6fb89302d8738addac"
      }
     },
     "metadata": {},
     "output_type": "display_data"
    },
    {
     "data": {
      "text/plain": "Downloading:   0%|          | 0.00/349 [00:00<?, ?B/s]",
      "application/vnd.jupyter.widget-view+json": {
       "version_major": 2,
       "version_minor": 0,
       "model_id": "d3e0233694b04fd88d953b1cff4bab1d"
      }
     },
     "metadata": {},
     "output_type": "display_data"
    },
    {
     "data": {
      "text/plain": "Downloading:   0%|          | 0.00/438M [00:00<?, ?B/s]",
      "application/vnd.jupyter.widget-view+json": {
       "version_major": 2,
       "version_minor": 0,
       "model_id": "38686b94c456477390022e087a0c055d"
      }
     },
     "metadata": {},
     "output_type": "display_data"
    },
    {
     "data": {
      "text/plain": "Downloading:   0%|          | 0.00/53.0 [00:00<?, ?B/s]",
      "application/vnd.jupyter.widget-view+json": {
       "version_major": 2,
       "version_minor": 0,
       "model_id": "3e1d081fc1c44d158a49238cbfadd303"
      }
     },
     "metadata": {},
     "output_type": "display_data"
    },
    {
     "data": {
      "text/plain": "Downloading:   0%|          | 0.00/239 [00:00<?, ?B/s]",
      "application/vnd.jupyter.widget-view+json": {
       "version_major": 2,
       "version_minor": 0,
       "model_id": "c8fe18dfdcbd456f94c7d595f305145b"
      }
     },
     "metadata": {},
     "output_type": "display_data"
    },
    {
     "data": {
      "text/plain": "Downloading:   0%|          | 0.00/466k [00:00<?, ?B/s]",
      "application/vnd.jupyter.widget-view+json": {
       "version_major": 2,
       "version_minor": 0,
       "model_id": "3f2bd6c94c4f483da49cc691bb6e210d"
      }
     },
     "metadata": {},
     "output_type": "display_data"
    },
    {
     "data": {
      "text/plain": "Downloading:   0%|          | 0.00/363 [00:00<?, ?B/s]",
      "application/vnd.jupyter.widget-view+json": {
       "version_major": 2,
       "version_minor": 0,
       "model_id": "632ac5033b7240fc868e4299c91fdf59"
      }
     },
     "metadata": {},
     "output_type": "display_data"
    },
    {
     "data": {
      "text/plain": "Downloading:   0%|          | 0.00/13.1k [00:00<?, ?B/s]",
      "application/vnd.jupyter.widget-view+json": {
       "version_major": 2,
       "version_minor": 0,
       "model_id": "e91593def47547a7b966ff2fca65a0e3"
      }
     },
     "metadata": {},
     "output_type": "display_data"
    },
    {
     "data": {
      "text/plain": "Downloading:   0%|          | 0.00/232k [00:00<?, ?B/s]",
      "application/vnd.jupyter.widget-view+json": {
       "version_major": 2,
       "version_minor": 0,
       "model_id": "c95bb85dd4a2457f95c41d3defe0da8c"
      }
     },
     "metadata": {},
     "output_type": "display_data"
    }
   ],
   "source": [
    "from sentence_transformers import SentenceTransformer\n",
    "import numpy as np\n",
    "model = SentenceTransformer('all-mpnet-base-v2')"
   ]
  },
  {
   "cell_type": "code",
   "execution_count": 30,
   "outputs": [
    {
     "name": "stdout",
     "output_type": "stream",
     "text": [
      "Questions count 57\n",
      "Start to calculate encoder....\n",
      "Encoder ready\n"
     ]
    }
   ],
   "source": [
    "def encode_questions():\n",
    "    bc = model\n",
    "    questions = data[\"Questions\"].values.tolist()\n",
    "    print(\"Questions count\", len(questions))\n",
    "    print(\"Start to calculate encoder....\")\n",
    "    questions_encoder = bc.encode(questions)\n",
    "    np.save(\"question_emb\", questions_encoder)\n",
    "    questions_encoder_len = np.sqrt(\n",
    "        np.sum(questions_encoder * questions_encoder, axis=1)\n",
    "    )\n",
    "    np.save(\"question_len_embedding\", questions_encoder_len)\n",
    "    print(\"Encoder ready\")\n",
    "\n",
    "encode_questions()"
   ],
   "metadata": {
    "collapsed": false,
    "pycharm": {
     "name": "#%%\n"
    }
   }
  },
  {
   "cell_type": "code",
   "execution_count": 43,
   "metadata": {
    "pycharm": {
     "name": "#%%\n"
    }
   },
   "outputs": [
    {
     "data": {
      "text/plain": "array(['Is juli a real person?'], dtype=object)"
     },
     "execution_count": 43,
     "metadata": {},
     "output_type": "execute_result"
    }
   ],
   "source": [
    "class BertAnswer:\n",
    "    def __init__(self):\n",
    "        self.bc = model\n",
    "        self.q_data = data[\"Questions\"].values.tolist()\n",
    "        self.a_data = data[\"Answers\"].values.tolist()\n",
    "        self.questions_encoder = np.load(\"question_emb.npy\")\n",
    "        self.questions_encoder_len = np.load(\"question_len_embedding.npy\")\n",
    "\n",
    "    def get(self, q):\n",
    "        query_vector = self.bc.encode([q])[0]\n",
    "        score = np.sum((query_vector * self.questions_encoder), axis=1) / (\n",
    "            self.questions_encoder_len * (np.sum(query_vector * query_vector) ** 0.5)\n",
    "        )\n",
    "        top_id = np.argsort(score)[::-1][0]\n",
    "        return self.a_data[top_id], score[top_id], self.q_data[top_id]\n",
    "\n",
    "bm = BertAnswer()\n",
    "\n",
    "def getBertAnswer(q):\n",
    "    return bm.get(q)\n",
    "\n",
    "\n",
    "test_data = ['Who is behind juli?']\n",
    "genResults(test_data, getBertAnswer)"
   ]
  },
  {
   "cell_type": "code",
   "execution_count": null,
   "outputs": [],
   "source": [],
   "metadata": {
    "collapsed": false,
    "pycharm": {
     "name": "#%%\n"
    }
   }
  }
 ],
 "metadata": {
  "interpreter": {
   "hash": "3c468904f69dd34b55af33eedebd42d75b0bc558abed21bf9bc089babced9cc0"
  },
  "kernelspec": {
   "name": "python3",
   "language": "python",
   "display_name": "Python 3"
  },
  "language_info": {
   "codemirror_mode": {
    "name": "ipython",
    "version": 3
   },
   "file_extension": ".py",
   "mimetype": "text/x-python",
   "name": "python",
   "nbconvert_exporter": "python",
   "pygments_lexer": "ipython3",
   "version": "3.7.0"
  }
 },
 "nbformat": 4,
 "nbformat_minor": 2
}